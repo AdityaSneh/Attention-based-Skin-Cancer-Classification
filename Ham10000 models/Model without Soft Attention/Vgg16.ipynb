{
  "nbformat": 4,
  "nbformat_minor": 0,
  "metadata": {
    "colab": {
      "name": "Vgg16.ipynb",
      "provenance": [],
      "collapsed_sections": [],
      "toc_visible": true,
      "machine_shape": "hm"
    },
    "kernelspec": {
      "name": "python3",
      "display_name": "Python 3"
    },
    "accelerator": "GPU"
  },
  "cells": [
    {
      "cell_type": "code",
      "metadata": {
        "id": "O5X3ASNLkv3Y",
        "colab": {
          "base_uri": "https://localhost:8080/"
        },
        "outputId": "0c5f53e1-91a5-44b6-9d86-a5e8bc39887f"
      },
      "source": [
        "from google.colab import drive\n",
        "drive.mount('/content/drive')"
      ],
      "execution_count": null,
      "outputs": [
        {
          "output_type": "stream",
          "text": [
            "Mounted at /content/drive\n"
          ],
          "name": "stdout"
        }
      ]
    },
    {
      "cell_type": "code",
      "metadata": {
        "id": "qTi0RAUGEfoM",
        "colab": {
          "base_uri": "https://localhost:8080/"
        },
        "outputId": "86b7215b-9515-44c1-c628-4cf20d478095"
      },
      "source": [
        "from zipfile import ZipFile\n",
        "filename=\"/content/drive/My Drive/HAM10000.zip\"\n",
        "with ZipFile(filename,'r') as zip:\n",
        "  zip.extractall()\n",
        "  print(\"done\")\n"
      ],
      "execution_count": null,
      "outputs": [
        {
          "output_type": "stream",
          "text": [
            "done\n"
          ],
          "name": "stdout"
        }
      ]
    },
    {
      "cell_type": "code",
      "metadata": {
        "id": "Aa36bMKLze3z"
      },
      "source": [
        "import pandas as pd\r\n",
        "import numpy as np\r\n",
        "import os\r\n",
        "import tensorflow as tf\r\n",
        "import cv2\r\n",
        "from keras import backend as K\r\n",
        "from keras.layers import Layer,InputSpec\r\n",
        "import keras.layers as kl\r\n",
        "from glob import glob\r\n",
        "from sklearn.metrics import roc_curve, auc\r\n",
        "from keras.preprocessing import image\r\n",
        "from tensorflow.keras.models import Sequential\r\n",
        "from sklearn.metrics import roc_auc_score\r\n",
        "from tensorflow.keras import callbacks \r\n",
        "from tensorflow.keras.callbacks import ModelCheckpoint,EarlyStopping\r\n",
        "from  matplotlib import pyplot as plt\r\n",
        "from tensorflow.keras import Model\r\n",
        "from tensorflow.keras.layers import concatenate,Dense, Conv2D, MaxPooling2D, Flatten,Input,Activation,add,AveragePooling2D,BatchNormalization,Dropout\r\n",
        "%matplotlib inline\r\n",
        "import shutil\r\n",
        "from sklearn.metrics import  precision_score, recall_score, accuracy_score,classification_report ,confusion_matrix\r\n",
        "from tensorflow.python.platform import build_info as tf_build_info\r\n",
        "from tensorflow.keras.preprocessing.image import ImageDataGenerator\r\n",
        "from sklearn.model_selection import train_test_split\r\n",
        "\r\n",
        "from PIL import ImageFile\r\n",
        "ImageFile.LOAD_TRUNCATED_IMAGES = True"
      ],
      "execution_count": null,
      "outputs": []
    },
    {
      "cell_type": "code",
      "metadata": {
        "colab": {
          "base_uri": "https://localhost:8080/",
          "height": 206
        },
        "id": "lnzRzk7e44HL",
        "outputId": "95291816-7cfd-47c3-dcc3-7f833897a931"
      },
      "source": [
        "data_pd = pd.read_csv('/content/drive/MyDrive/HAM10000_metadata.csv')\r\n",
        "data_pd.head()"
      ],
      "execution_count": null,
      "outputs": [
        {
          "output_type": "execute_result",
          "data": {
            "text/html": [
              "<div>\n",
              "<style scoped>\n",
              "    .dataframe tbody tr th:only-of-type {\n",
              "        vertical-align: middle;\n",
              "    }\n",
              "\n",
              "    .dataframe tbody tr th {\n",
              "        vertical-align: top;\n",
              "    }\n",
              "\n",
              "    .dataframe thead th {\n",
              "        text-align: right;\n",
              "    }\n",
              "</style>\n",
              "<table border=\"1\" class=\"dataframe\">\n",
              "  <thead>\n",
              "    <tr style=\"text-align: right;\">\n",
              "      <th></th>\n",
              "      <th>lesion_id</th>\n",
              "      <th>image_id</th>\n",
              "      <th>dx</th>\n",
              "      <th>dx_type</th>\n",
              "      <th>age</th>\n",
              "      <th>sex</th>\n",
              "      <th>localization</th>\n",
              "    </tr>\n",
              "  </thead>\n",
              "  <tbody>\n",
              "    <tr>\n",
              "      <th>0</th>\n",
              "      <td>HAM_0000118</td>\n",
              "      <td>ISIC_0027419</td>\n",
              "      <td>bkl</td>\n",
              "      <td>histo</td>\n",
              "      <td>80.0</td>\n",
              "      <td>male</td>\n",
              "      <td>scalp</td>\n",
              "    </tr>\n",
              "    <tr>\n",
              "      <th>1</th>\n",
              "      <td>HAM_0000118</td>\n",
              "      <td>ISIC_0025030</td>\n",
              "      <td>bkl</td>\n",
              "      <td>histo</td>\n",
              "      <td>80.0</td>\n",
              "      <td>male</td>\n",
              "      <td>scalp</td>\n",
              "    </tr>\n",
              "    <tr>\n",
              "      <th>2</th>\n",
              "      <td>HAM_0002730</td>\n",
              "      <td>ISIC_0026769</td>\n",
              "      <td>bkl</td>\n",
              "      <td>histo</td>\n",
              "      <td>80.0</td>\n",
              "      <td>male</td>\n",
              "      <td>scalp</td>\n",
              "    </tr>\n",
              "    <tr>\n",
              "      <th>3</th>\n",
              "      <td>HAM_0002730</td>\n",
              "      <td>ISIC_0025661</td>\n",
              "      <td>bkl</td>\n",
              "      <td>histo</td>\n",
              "      <td>80.0</td>\n",
              "      <td>male</td>\n",
              "      <td>scalp</td>\n",
              "    </tr>\n",
              "    <tr>\n",
              "      <th>4</th>\n",
              "      <td>HAM_0001466</td>\n",
              "      <td>ISIC_0031633</td>\n",
              "      <td>bkl</td>\n",
              "      <td>histo</td>\n",
              "      <td>75.0</td>\n",
              "      <td>male</td>\n",
              "      <td>ear</td>\n",
              "    </tr>\n",
              "  </tbody>\n",
              "</table>\n",
              "</div>"
            ],
            "text/plain": [
              "     lesion_id      image_id   dx dx_type   age   sex localization\n",
              "0  HAM_0000118  ISIC_0027419  bkl   histo  80.0  male        scalp\n",
              "1  HAM_0000118  ISIC_0025030  bkl   histo  80.0  male        scalp\n",
              "2  HAM_0002730  ISIC_0026769  bkl   histo  80.0  male        scalp\n",
              "3  HAM_0002730  ISIC_0025661  bkl   histo  80.0  male        scalp\n",
              "4  HAM_0001466  ISIC_0031633  bkl   histo  75.0  male          ear"
            ]
          },
          "metadata": {
            "tags": []
          },
          "execution_count": 4
        }
      ]
    },
    {
      "cell_type": "code",
      "metadata": {
        "id": "qlR6SjeEzXsm"
      },
      "source": [
        "train_dir = os.path.join('HAM10000', 'train_dir')\r\n",
        "test_dir = os.path.join('HAM10000', 'test_dir')"
      ],
      "execution_count": null,
      "outputs": []
    },
    {
      "cell_type": "code",
      "metadata": {
        "colab": {
          "base_uri": "https://localhost:8080/",
          "height": 206
        },
        "id": "_IFqPgUu5jPj",
        "outputId": "38037541-4d05-422c-9635-8070fe66fe16"
      },
      "source": [
        "# This will tell us how many images are associated with each lesion_id.\r\n",
        "df = data_pd.groupby('lesion_id').count()\r\n",
        "\r\n",
        "# Now we filter out lesion_id's that have only one image associated with it\r\n",
        "df = df[df['image_id'] == 1]\r\n",
        "\r\n",
        "df.reset_index(inplace=True)\r\n",
        "\r\n",
        "df.head()"
      ],
      "execution_count": null,
      "outputs": [
        {
          "output_type": "execute_result",
          "data": {
            "text/html": [
              "<div>\n",
              "<style scoped>\n",
              "    .dataframe tbody tr th:only-of-type {\n",
              "        vertical-align: middle;\n",
              "    }\n",
              "\n",
              "    .dataframe tbody tr th {\n",
              "        vertical-align: top;\n",
              "    }\n",
              "\n",
              "    .dataframe thead th {\n",
              "        text-align: right;\n",
              "    }\n",
              "</style>\n",
              "<table border=\"1\" class=\"dataframe\">\n",
              "  <thead>\n",
              "    <tr style=\"text-align: right;\">\n",
              "      <th></th>\n",
              "      <th>lesion_id</th>\n",
              "      <th>image_id</th>\n",
              "      <th>dx</th>\n",
              "      <th>dx_type</th>\n",
              "      <th>age</th>\n",
              "      <th>sex</th>\n",
              "      <th>localization</th>\n",
              "    </tr>\n",
              "  </thead>\n",
              "  <tbody>\n",
              "    <tr>\n",
              "      <th>0</th>\n",
              "      <td>HAM_0000001</td>\n",
              "      <td>1</td>\n",
              "      <td>1</td>\n",
              "      <td>1</td>\n",
              "      <td>1</td>\n",
              "      <td>1</td>\n",
              "      <td>1</td>\n",
              "    </tr>\n",
              "    <tr>\n",
              "      <th>1</th>\n",
              "      <td>HAM_0000003</td>\n",
              "      <td>1</td>\n",
              "      <td>1</td>\n",
              "      <td>1</td>\n",
              "      <td>1</td>\n",
              "      <td>1</td>\n",
              "      <td>1</td>\n",
              "    </tr>\n",
              "    <tr>\n",
              "      <th>2</th>\n",
              "      <td>HAM_0000004</td>\n",
              "      <td>1</td>\n",
              "      <td>1</td>\n",
              "      <td>1</td>\n",
              "      <td>1</td>\n",
              "      <td>1</td>\n",
              "      <td>1</td>\n",
              "    </tr>\n",
              "    <tr>\n",
              "      <th>3</th>\n",
              "      <td>HAM_0000007</td>\n",
              "      <td>1</td>\n",
              "      <td>1</td>\n",
              "      <td>1</td>\n",
              "      <td>1</td>\n",
              "      <td>1</td>\n",
              "      <td>1</td>\n",
              "    </tr>\n",
              "    <tr>\n",
              "      <th>4</th>\n",
              "      <td>HAM_0000008</td>\n",
              "      <td>1</td>\n",
              "      <td>1</td>\n",
              "      <td>1</td>\n",
              "      <td>1</td>\n",
              "      <td>1</td>\n",
              "      <td>1</td>\n",
              "    </tr>\n",
              "  </tbody>\n",
              "</table>\n",
              "</div>"
            ],
            "text/plain": [
              "     lesion_id  image_id  dx  dx_type  age  sex  localization\n",
              "0  HAM_0000001         1   1        1    1    1             1\n",
              "1  HAM_0000003         1   1        1    1    1             1\n",
              "2  HAM_0000004         1   1        1    1    1             1\n",
              "3  HAM_0000007         1   1        1    1    1             1\n",
              "4  HAM_0000008         1   1        1    1    1             1"
            ]
          },
          "metadata": {
            "tags": []
          },
          "execution_count": 6
        }
      ]
    },
    {
      "cell_type": "code",
      "metadata": {
        "id": "NeVfs-Ly95gs"
      },
      "source": [
        "def identify_duplicates(x):\r\n",
        "\r\n",
        "    # Generate a list of items with unique lesion ids from df array.\r\n",
        "    unique_list = list(df['lesion_id'])\r\n",
        "\r\n",
        "    if x in unique_list:\r\n",
        "        return 'no_duplicates'\r\n",
        "    else:\r\n",
        "        return 'has_duplicates'"
      ],
      "execution_count": null,
      "outputs": []
    },
    {
      "cell_type": "code",
      "metadata": {
        "id": "2WZZRSzO5v8t"
      },
      "source": [
        "\r\n",
        "# create a new column that is a copy of the lesion_id column\r\n",
        "data_pd['duplicates'] = data_pd['lesion_id']\r\n",
        "# apply the function to this new column\r\n",
        "data_pd['duplicates'] = data_pd['duplicates'].apply(identify_duplicates)\r\n",
        "\r\n",
        "data_pd.head()\r\n",
        "\r\n",
        "df = data_pd[data_pd['duplicates'] == 'no_duplicates']\r\n",
        "\r\n",
        "# Now we create a test set using df because we are sure that none of these images\r\n",
        "# have augmented duplicates in the train set\r\n",
        "y = df['dx']\r\n",
        "\r\n",
        "_, test_df = train_test_split(df, test_size=0.15, random_state=101, stratify=y)\r\n",
        "\r\n"
      ],
      "execution_count": null,
      "outputs": []
    },
    {
      "cell_type": "code",
      "metadata": {
        "colab": {
          "base_uri": "https://localhost:8080/",
          "height": 206
        },
        "id": "FPySEG1m58pu",
        "outputId": "b000670b-2bb9-4c3f-a97f-fd15b6fda834"
      },
      "source": [
        "test_df.head()"
      ],
      "execution_count": null,
      "outputs": [
        {
          "output_type": "execute_result",
          "data": {
            "text/html": [
              "<div>\n",
              "<style scoped>\n",
              "    .dataframe tbody tr th:only-of-type {\n",
              "        vertical-align: middle;\n",
              "    }\n",
              "\n",
              "    .dataframe tbody tr th {\n",
              "        vertical-align: top;\n",
              "    }\n",
              "\n",
              "    .dataframe thead th {\n",
              "        text-align: right;\n",
              "    }\n",
              "</style>\n",
              "<table border=\"1\" class=\"dataframe\">\n",
              "  <thead>\n",
              "    <tr style=\"text-align: right;\">\n",
              "      <th></th>\n",
              "      <th>lesion_id</th>\n",
              "      <th>image_id</th>\n",
              "      <th>dx</th>\n",
              "      <th>dx_type</th>\n",
              "      <th>age</th>\n",
              "      <th>sex</th>\n",
              "      <th>localization</th>\n",
              "      <th>duplicates</th>\n",
              "    </tr>\n",
              "  </thead>\n",
              "  <tbody>\n",
              "    <tr>\n",
              "      <th>4792</th>\n",
              "      <td>HAM_0005912</td>\n",
              "      <td>ISIC_0027028</td>\n",
              "      <td>nv</td>\n",
              "      <td>follow_up</td>\n",
              "      <td>40.0</td>\n",
              "      <td>male</td>\n",
              "      <td>abdomen</td>\n",
              "      <td>no_duplicates</td>\n",
              "    </tr>\n",
              "    <tr>\n",
              "      <th>7973</th>\n",
              "      <td>HAM_0004583</td>\n",
              "      <td>ISIC_0034200</td>\n",
              "      <td>nv</td>\n",
              "      <td>consensus</td>\n",
              "      <td>55.0</td>\n",
              "      <td>male</td>\n",
              "      <td>unknown</td>\n",
              "      <td>no_duplicates</td>\n",
              "    </tr>\n",
              "    <tr>\n",
              "      <th>5311</th>\n",
              "      <td>HAM_0002071</td>\n",
              "      <td>ISIC_0031616</td>\n",
              "      <td>nv</td>\n",
              "      <td>follow_up</td>\n",
              "      <td>45.0</td>\n",
              "      <td>female</td>\n",
              "      <td>abdomen</td>\n",
              "      <td>no_duplicates</td>\n",
              "    </tr>\n",
              "    <tr>\n",
              "      <th>916</th>\n",
              "      <td>HAM_0006277</td>\n",
              "      <td>ISIC_0031428</td>\n",
              "      <td>bkl</td>\n",
              "      <td>consensus</td>\n",
              "      <td>55.0</td>\n",
              "      <td>male</td>\n",
              "      <td>scalp</td>\n",
              "      <td>no_duplicates</td>\n",
              "    </tr>\n",
              "    <tr>\n",
              "      <th>8214</th>\n",
              "      <td>HAM_0001236</td>\n",
              "      <td>ISIC_0030615</td>\n",
              "      <td>nv</td>\n",
              "      <td>histo</td>\n",
              "      <td>60.0</td>\n",
              "      <td>male</td>\n",
              "      <td>back</td>\n",
              "      <td>no_duplicates</td>\n",
              "    </tr>\n",
              "  </tbody>\n",
              "</table>\n",
              "</div>"
            ],
            "text/plain": [
              "        lesion_id      image_id   dx  ...     sex  localization     duplicates\n",
              "4792  HAM_0005912  ISIC_0027028   nv  ...    male       abdomen  no_duplicates\n",
              "7973  HAM_0004583  ISIC_0034200   nv  ...    male       unknown  no_duplicates\n",
              "5311  HAM_0002071  ISIC_0031616   nv  ...  female       abdomen  no_duplicates\n",
              "916   HAM_0006277  ISIC_0031428  bkl  ...    male         scalp  no_duplicates\n",
              "8214  HAM_0001236  ISIC_0030615   nv  ...    male          back  no_duplicates\n",
              "\n",
              "[5 rows x 8 columns]"
            ]
          },
          "metadata": {
            "tags": []
          },
          "execution_count": 9
        }
      ]
    },
    {
      "cell_type": "code",
      "metadata": {
        "colab": {
          "base_uri": "https://localhost:8080/",
          "height": 206
        },
        "id": "leUzX6BO9ZdX",
        "outputId": "85431f51-2c97-413f-b627-28040820a829"
      },
      "source": [
        "data_pd.head()"
      ],
      "execution_count": null,
      "outputs": [
        {
          "output_type": "execute_result",
          "data": {
            "text/html": [
              "<div>\n",
              "<style scoped>\n",
              "    .dataframe tbody tr th:only-of-type {\n",
              "        vertical-align: middle;\n",
              "    }\n",
              "\n",
              "    .dataframe tbody tr th {\n",
              "        vertical-align: top;\n",
              "    }\n",
              "\n",
              "    .dataframe thead th {\n",
              "        text-align: right;\n",
              "    }\n",
              "</style>\n",
              "<table border=\"1\" class=\"dataframe\">\n",
              "  <thead>\n",
              "    <tr style=\"text-align: right;\">\n",
              "      <th></th>\n",
              "      <th>lesion_id</th>\n",
              "      <th>image_id</th>\n",
              "      <th>dx</th>\n",
              "      <th>dx_type</th>\n",
              "      <th>age</th>\n",
              "      <th>sex</th>\n",
              "      <th>localization</th>\n",
              "      <th>duplicates</th>\n",
              "    </tr>\n",
              "  </thead>\n",
              "  <tbody>\n",
              "    <tr>\n",
              "      <th>0</th>\n",
              "      <td>HAM_0000118</td>\n",
              "      <td>ISIC_0027419</td>\n",
              "      <td>bkl</td>\n",
              "      <td>histo</td>\n",
              "      <td>80.0</td>\n",
              "      <td>male</td>\n",
              "      <td>scalp</td>\n",
              "      <td>has_duplicates</td>\n",
              "    </tr>\n",
              "    <tr>\n",
              "      <th>1</th>\n",
              "      <td>HAM_0000118</td>\n",
              "      <td>ISIC_0025030</td>\n",
              "      <td>bkl</td>\n",
              "      <td>histo</td>\n",
              "      <td>80.0</td>\n",
              "      <td>male</td>\n",
              "      <td>scalp</td>\n",
              "      <td>has_duplicates</td>\n",
              "    </tr>\n",
              "    <tr>\n",
              "      <th>2</th>\n",
              "      <td>HAM_0002730</td>\n",
              "      <td>ISIC_0026769</td>\n",
              "      <td>bkl</td>\n",
              "      <td>histo</td>\n",
              "      <td>80.0</td>\n",
              "      <td>male</td>\n",
              "      <td>scalp</td>\n",
              "      <td>has_duplicates</td>\n",
              "    </tr>\n",
              "    <tr>\n",
              "      <th>3</th>\n",
              "      <td>HAM_0002730</td>\n",
              "      <td>ISIC_0025661</td>\n",
              "      <td>bkl</td>\n",
              "      <td>histo</td>\n",
              "      <td>80.0</td>\n",
              "      <td>male</td>\n",
              "      <td>scalp</td>\n",
              "      <td>has_duplicates</td>\n",
              "    </tr>\n",
              "    <tr>\n",
              "      <th>4</th>\n",
              "      <td>HAM_0001466</td>\n",
              "      <td>ISIC_0031633</td>\n",
              "      <td>bkl</td>\n",
              "      <td>histo</td>\n",
              "      <td>75.0</td>\n",
              "      <td>male</td>\n",
              "      <td>ear</td>\n",
              "      <td>has_duplicates</td>\n",
              "    </tr>\n",
              "  </tbody>\n",
              "</table>\n",
              "</div>"
            ],
            "text/plain": [
              "     lesion_id      image_id   dx  ...   sex  localization      duplicates\n",
              "0  HAM_0000118  ISIC_0027419  bkl  ...  male         scalp  has_duplicates\n",
              "1  HAM_0000118  ISIC_0025030  bkl  ...  male         scalp  has_duplicates\n",
              "2  HAM_0002730  ISIC_0026769  bkl  ...  male         scalp  has_duplicates\n",
              "3  HAM_0002730  ISIC_0025661  bkl  ...  male         scalp  has_duplicates\n",
              "4  HAM_0001466  ISIC_0031633  bkl  ...  male           ear  has_duplicates\n",
              "\n",
              "[5 rows x 8 columns]"
            ]
          },
          "metadata": {
            "tags": []
          },
          "execution_count": 10
        }
      ]
    },
    {
      "cell_type": "code",
      "metadata": {
        "id": "9xVuPVd79SbD"
      },
      "source": [
        "# This set will be data_pd excluding all rows that are in the test set\r\n",
        "\r\n",
        "# This function identifies if an image is part of the train\r\n",
        "# or test set.\r\n",
        "def identify_test_rows(x):\r\n",
        "    # create a list of all the lesion_id's in the test set\r\n",
        "    test_list = list(test_df['image_id'])\r\n",
        "\r\n",
        "    if str(x) in test_list:\r\n",
        "        return 'test'\r\n",
        "    else:\r\n",
        "        return 'train'\r\n",
        "\r\n",
        "\r\n",
        "# Copy image_id column to train_or_test column.\r\n",
        "data_pd['train_or_test'] = data_pd['image_id']\r\n",
        "\r\n",
        "\r\n",
        "# Apply identify_test_rows to this copied column.\r\n",
        "data_pd['train_or_test'] = data_pd['train_or_test'].apply(identify_test_rows)\r\n",
        "\r\n",
        "\r\n",
        "# Add data that is part of the training dataset by using applied function and taking result.\r\n",
        "train_df = data_pd[data_pd['train_or_test'] == 'train']\r\n",
        "\r\n",
        "\r\n",
        "\r\n",
        "\r\n",
        "# Get a list of train and test images\r\n",
        "train_list = list(train_df['image_id'])\r\n",
        "test_list = list(test_df['image_id'])\r\n"
      ],
      "execution_count": null,
      "outputs": []
    },
    {
      "cell_type": "code",
      "metadata": {
        "colab": {
          "base_uri": "https://localhost:8080/"
        },
        "id": "eEChk1DK-H8Z",
        "outputId": "dfce7f34-4799-4ddf-9071-bcfb5f890d36"
      },
      "source": [
        "len(train_list)"
      ],
      "execution_count": null,
      "outputs": [
        {
          "output_type": "execute_result",
          "data": {
            "text/plain": [
              "9187"
            ]
          },
          "metadata": {
            "tags": []
          },
          "execution_count": 12
        }
      ]
    },
    {
      "cell_type": "code",
      "metadata": {
        "id": "PIoMqylGAYYZ"
      },
      "source": [
        "# Set the image_id as the index in data_pd\r\n",
        "data_pd.set_index('image_id', inplace=True)"
      ],
      "execution_count": null,
      "outputs": []
    },
    {
      "cell_type": "code",
      "metadata": {
        "id": "Ja_PtDYyDPMM"
      },
      "source": [
        "os.mkdir(train_dir)\r\n",
        "os.mkdir(test_dir)"
      ],
      "execution_count": null,
      "outputs": []
    },
    {
      "cell_type": "code",
      "metadata": {
        "id": "PsoqCvNsgmHP"
      },
      "source": [
        "targetnames = ['akiec', 'bcc', 'bkl', 'df', 'mel', 'nv', 'vasc']"
      ],
      "execution_count": null,
      "outputs": []
    },
    {
      "cell_type": "code",
      "metadata": {
        "id": "9KYMTQugCmRR"
      },
      "source": [
        "for i in targetnames:\r\n",
        "  directory1=train_dir+'/'+i\r\n",
        "  directory2=test_dir+'/'+i\r\n",
        "  os.mkdir(directory1)\r\n",
        "  os.mkdir(directory2)\r\n"
      ],
      "execution_count": null,
      "outputs": []
    },
    {
      "cell_type": "code",
      "metadata": {
        "id": "GL9vFa3X-ty1"
      },
      "source": [
        "for image in train_list:\r\n",
        "\r\n",
        "    file_name = image+'.jpg'\r\n",
        "    label = data_pd.loc[image, 'dx']\r\n",
        "\r\n",
        "\r\n",
        "    # destination path to image\r\n",
        "    source = os.path.join('HAM10000', file_name)\r\n",
        "\r\n",
        "    # copy the image from the source to the destination\r\n",
        "    dest = os.path.join(train_dir, label, file_name)\r\n",
        "\r\n",
        "    shutil.copyfile(source, dest)"
      ],
      "execution_count": null,
      "outputs": []
    },
    {
      "cell_type": "code",
      "metadata": {
        "id": "hwbKrEzJ_if2"
      },
      "source": [
        "\r\n",
        "for image in test_list:\r\n",
        "\r\n",
        "    # Set all file names as name + jpeg extension.\r\n",
        "    file_name = image+'.jpg'\r\n",
        "    label = data_pd.loc[image, 'dx']\r\n",
        "\r\n",
        "    # destination path to image\r\n",
        "    source = os.path.join('HAM10000', file_name)\r\n",
        "\r\n",
        "    # copy the image from the source to the destination\r\n",
        "    dest = os.path.join(test_dir, label, file_name)\r\n",
        "\r\n",
        "    shutil.copyfile(source, dest)"
      ],
      "execution_count": null,
      "outputs": []
    },
    {
      "cell_type": "code",
      "metadata": {
        "id": "4W8hmE2OHjQa",
        "colab": {
          "base_uri": "https://localhost:8080/"
        },
        "outputId": "e935e0ab-4162-4bc4-daed-b9db6f94e12f"
      },
      "source": [
        "\r\n",
        "\r\n",
        "targetnames = ['akiec', 'bcc', 'bkl', 'df', 'mel', 'nv', 'vasc']\r\n",
        "\r\n",
        "# Create an augmented dataset which will expand the dataset of all image\r\n",
        "# classes.\r\n",
        "for item in targetnames:\r\n",
        "\r\n",
        "    # We are creating temporary directories here because we delete these directories later\r\n",
        "    # create a base dir\r\n",
        "    aug_dir = 'aug_dir'\r\n",
        "    os.mkdir(aug_dir)\r\n",
        "    # create a dir within the base dir to store images of the same class\r\n",
        "    img_dir = os.path.join(aug_dir, 'img_dir')\r\n",
        "    os.mkdir(img_dir)\r\n",
        "\r\n",
        "    # Get class from class_list array. Represents respective file in HAM10000 dir.\r\n",
        "    img_class = item\r\n",
        "\r\n",
        "    # list all images in that directory\r\n",
        "    img_list = os.listdir('HAM10000/train_dir/' + img_class)\r\n",
        "\r\n",
        "    # Copy images from the class train dir to the img_dir e.g. class 'mel'\r\n",
        "    for file_name in img_list:\r\n",
        "\r\n",
        "        # Create source directory which is in training directory.\r\n",
        "        src = os.path.join('HAM10000/train_dir/' + img_class, file_name)\r\n",
        "\r\n",
        "        # Create destination folder which is in image directory.\r\n",
        "        dst = os.path.join(img_dir, file_name)\r\n",
        "\r\n",
        "        # Copy all images from src -> dst folder.\r\n",
        "        shutil.copyfile(src, dst)\r\n",
        "\r\n",
        "    # Temporary augumented dataset directory, will be deleted upon training.\r\n",
        "    path = aug_dir\r\n",
        "\r\n",
        "    # Set our save path to training directory for all augmented imgs produced.\r\n",
        "    save_path = 'HAM10000/train_dir/' + img_class\r\n",
        "\r\n",
        "    # Create Datagen generator.\r\n",
        "    # We will be using an ImageDataGenerator because we are processing\r\n",
        "    datagen = tf.keras.preprocessing.image.ImageDataGenerator(\r\n",
        "\r\n",
        "        rotation_range=180,\r\n",
        "        width_shift_range=0.1,\r\n",
        "        height_shift_range=0.1,\r\n",
        "        zoom_range=0.1,\r\n",
        "        horizontal_flip=True,\r\n",
        "        vertical_flip=True,\r\n",
        "        fill_mode='nearest'\r\n",
        "\r\n",
        "    )\r\n",
        "\r\n",
        "    batch_size = 50\r\n",
        "\r\n",
        "    aug_datagen = datagen.flow_from_directory(path,save_to_dir=save_path,save_format='jpg',target_size=(224, 224),batch_size=batch_size)\r\n",
        "\r\n",
        "    # Generate the augmented images and add them to the training folders\r\n",
        "    num_aug_images_wanted = 8000  # total number of images we want to have in each class\r\n",
        "\r\n",
        "    num_files = len(os.listdir(img_dir))\r\n",
        "    num_batches = int(np.ceil((num_aug_images_wanted - num_files) / batch_size))\r\n",
        "\r\n",
        "    # run the generator and create about 8000 augmented images\r\n",
        "    for i in range(0, num_batches):\r\n",
        "        images, labels = next(aug_datagen)\r\n",
        "\r\n",
        "    # delete temporary directory with the raw image files\r\n",
        "    shutil.rmtree('aug_dir')\r\n",
        "\r\n",
        "    # End for loop\r\n"
      ],
      "execution_count": null,
      "outputs": [
        {
          "output_type": "stream",
          "text": [
            "Found 304 images belonging to 1 classes.\n",
            "Found 488 images belonging to 1 classes.\n",
            "Found 1033 images belonging to 1 classes.\n",
            "Found 109 images belonging to 1 classes.\n",
            "Found 1079 images belonging to 1 classes.\n",
            "Found 6042 images belonging to 1 classes.\n",
            "Found 132 images belonging to 1 classes.\n"
          ],
          "name": "stdout"
        }
      ]
    },
    {
      "cell_type": "code",
      "metadata": {
        "id": "wNisha_gM3_Z",
        "colab": {
          "base_uri": "https://localhost:8080/"
        },
        "outputId": "e52ba069-f860-4293-f7ec-427a8edf9bb8"
      },
      "source": [
        "\r\n",
        "# BUILD MODEL\r\n",
        "\r\n",
        "train_path = 'HAM10000/train_dir'\r\n",
        "test_path = 'HAM10000/test_dir'\r\n",
        "\r\n",
        "train_samples = len(train_df)\r\n",
        "test_samples = len(test_df)\r\n",
        "\r\n",
        "train_batch_size = 10\r\n",
        "test_batch_size = 10\r\n",
        "image_size = 224\r\n",
        "\r\n",
        "# Divide total # of samples by batch size to section off training samples into steps.\r\n",
        "# Then round up with np.ceil function.\r\n",
        "train_steps = np.ceil(train_samples / train_batch_size)\r\n",
        "test_steps = np.ceil(test_samples / test_batch_size)\r\n",
        "\r\n",
        "# Create an Image Data Generator to input later into our model.\r\n",
        "datagen=ImageDataGenerator(preprocessing_function=tf.keras.applications.inception_resnet_v2.preprocess_input)\r\n",
        "\r\n",
        "\r\n",
        "### GETTING BATCHES FROM DIRECTORY PATHS ###\r\n",
        "print(\"\\nTrain Batches: \")\r\n",
        "train_batches = datagen.flow_from_directory(directory=train_path,\r\n",
        "                                            target_size=(image_size,image_size),\r\n",
        "                                            batch_size=train_batch_size,\r\n",
        "                                            shuffle=True)\r\n",
        "\r\n",
        "\r\n",
        "\r\n",
        "print(\"\\nTest Batches: \")\r\n",
        "test_batches =datagen.flow_from_directory(test_path,\r\n",
        "                                           target_size=(image_size,image_size),\r\n",
        "                                           batch_size=1,\r\n",
        "                                           shuffle=False)\r\n"
      ],
      "execution_count": null,
      "outputs": [
        {
          "output_type": "stream",
          "text": [
            "\n",
            "Train Batches: \n",
            "Found 51699 images belonging to 7 classes.\n",
            "\n",
            "Test Batches: \n",
            "Found 828 images belonging to 7 classes.\n"
          ],
          "name": "stdout"
        }
      ]
    },
    {
      "cell_type": "code",
      "metadata": {
        "id": "AbwfHcsOPKYB"
      },
      "source": [
        "#Soft Attention\n",
        "\n",
        "from keras import backend as K\n",
        "from keras.layers import Layer,InputSpec\n",
        "import keras.layers as kl\n",
        "import tensorflow as tf\n",
        "\n",
        "\n",
        "\n",
        "class SoftAttention(Layer):\n",
        "    def __init__(self,ch,m,concat_with_x=False,aggregate=False,**kwargs):\n",
        "        self.channels=int(ch)\n",
        "        self.multiheads = m\n",
        "        self.aggregate_channels = aggregate\n",
        "        self.concat_input_with_scaled = concat_with_x\n",
        "\n",
        "        \n",
        "        super(SoftAttention,self).__init__(**kwargs)\n",
        "\n",
        "    def build(self,input_shape):\n",
        "\n",
        "        self.i_shape = input_shape\n",
        "\n",
        "        kernel_shape_conv3d = (self.channels, 3, 3) + (1, self.multiheads) # DHWC\n",
        "    \n",
        "        self.out_attention_maps_shape = input_shape[0:1]+(self.multiheads,)+input_shape[1:-1]\n",
        "        \n",
        "        if self.aggregate_channels==False:\n",
        "\n",
        "            self.out_features_shape = input_shape[:-1]+(input_shape[-1]+(input_shape[-1]*self.multiheads),)\n",
        "        else:\n",
        "            if self.concat_input_with_scaled:\n",
        "                self.out_features_shape = input_shape[:-1]+(input_shape[-1]*2,)\n",
        "            else:\n",
        "                self.out_features_shape = input_shape\n",
        "        \n",
        "\n",
        "        self.kernel_conv3d = self.add_weight(shape=kernel_shape_conv3d,\n",
        "                                        initializer='he_uniform',\n",
        "                                        name='kernel_conv3d')\n",
        "        self.bias_conv3d = self.add_weight(shape=(self.multiheads,),\n",
        "                                      initializer='zeros',\n",
        "                                      name='bias_conv3d')\n",
        "\n",
        "        super(SoftAttention, self).build(input_shape)\n",
        "\n",
        "    def call(self, x):\n",
        "\n",
        "        exp_x = K.expand_dims(x,axis=-1)\n",
        "\n",
        "        c3d = K.conv3d(exp_x,\n",
        "                     kernel=self.kernel_conv3d,\n",
        "                     strides=(1,1,self.i_shape[-1]), padding='same', data_format='channels_last')\n",
        "        conv3d = K.bias_add(c3d,\n",
        "                        self.bias_conv3d)\n",
        "        conv3d = kl.Activation('relu')(conv3d)\n",
        "\n",
        "        conv3d = K.permute_dimensions(conv3d,pattern=(0,4,1,2,3))\n",
        "\n",
        "        \n",
        "        conv3d = K.squeeze(conv3d, axis=-1)\n",
        "        conv3d = K.reshape(conv3d,shape=(-1, self.multiheads ,self.i_shape[1]*self.i_shape[2]))\n",
        "\n",
        "        softmax_alpha = K.softmax(conv3d, axis=-1) \n",
        "        softmax_alpha = kl.Reshape(target_shape=(self.multiheads, self.i_shape[1],self.i_shape[2]))(softmax_alpha)\n",
        "\n",
        "        \n",
        "        if self.aggregate_channels==False:\n",
        "            exp_softmax_alpha = K.expand_dims(softmax_alpha, axis=-1)       \n",
        "            exp_softmax_alpha = K.permute_dimensions(exp_softmax_alpha,pattern=(0,2,3,1,4))\n",
        "   \n",
        "            x_exp = K.expand_dims(x,axis=-2)\n",
        "   \n",
        "            u = kl.Multiply()([exp_softmax_alpha, x_exp])   \n",
        "  \n",
        "            u = kl.Reshape(target_shape=(self.i_shape[1],self.i_shape[2],u.shape[-1]*u.shape[-2]))(u)\n",
        "\n",
        "        else:\n",
        "            exp_softmax_alpha = K.permute_dimensions(softmax_alpha,pattern=(0,2,3,1))\n",
        "\n",
        "            exp_softmax_alpha = K.sum(exp_softmax_alpha,axis=-1)\n",
        "\n",
        "            exp_softmax_alpha = K.expand_dims(exp_softmax_alpha, axis=-1)\n",
        "\n",
        "            u = kl.Multiply()([exp_softmax_alpha, x])   \n",
        "\n",
        "        if self.concat_input_with_scaled:\n",
        "            o = kl.Concatenate(axis=-1)([u,x])\n",
        "        else:\n",
        "            o = u\n",
        "        \n",
        "        return [o, softmax_alpha]\n",
        "\n",
        "    def compute_output_shape(self, input_shape): \n",
        "        return [self.out_features_shape, self.out_attention_maps_shape]\n",
        "\n",
        "    \n",
        "    def get_config(self):\n",
        "        return super(SoftAttention,self).get_config()\n",
        " "
      ],
      "execution_count": null,
      "outputs": []
    },
    {
      "cell_type": "code",
      "metadata": {
        "id": "4d4Ta5LcSYaz"
      },
      "source": [
        "MainInput=Input(shape=(224, 224, 3))"
      ],
      "execution_count": null,
      "outputs": []
    },
    {
      "cell_type": "code",
      "metadata": {
        "id": "LtSMEeZjSYa_"
      },
      "source": [
        "conv=(Conv2D(filters=64,kernel_size=(3,3), activation=\"relu\",padding=\"same\",kernel_initializer='he_normal')(MainInput))\n",
        "conv=(BatchNormalization()(conv))\n",
        "conv=(Conv2D(filters=64,kernel_size=(1,1), activation=\"relu\",padding=\"same\",kernel_initializer='he_normal')(conv))\n",
        "conv=(BatchNormalization()(conv))"
      ],
      "execution_count": null,
      "outputs": []
    },
    {
      "cell_type": "code",
      "metadata": {
        "id": "wfhLPhssAm2S"
      },
      "source": [
        "conv=(MaxPooling2D(strides=(2, 2),padding=\"same\")(conv))"
      ],
      "execution_count": null,
      "outputs": []
    },
    {
      "cell_type": "code",
      "metadata": {
        "id": "x8mS99J5SYbT"
      },
      "source": [
        "conv=(Conv2D(filters=128,kernel_size=(3,3), activation=\"relu\",padding=\"same\",kernel_initializer='he_normal')(conv))\n",
        "conv=(BatchNormalization()(conv))\n",
        "conv=(Conv2D(filters=128,kernel_size=(1,1), activation=\"relu\",padding=\"same\",kernel_initializer='he_normal')(conv))\n",
        "conv=(BatchNormalization()(conv))"
      ],
      "execution_count": null,
      "outputs": []
    },
    {
      "cell_type": "code",
      "metadata": {
        "id": "R8ecZJFySYbb"
      },
      "source": [
        "conv=(MaxPooling2D()(conv))"
      ],
      "execution_count": null,
      "outputs": []
    },
    {
      "cell_type": "code",
      "metadata": {
        "id": "sW4tKg9wSYbk"
      },
      "source": [
        "conv=(Conv2D(filters=256,kernel_size=(3,3), activation=\"relu\",padding=\"same\",kernel_initializer='he_normal')(conv))\n",
        "conv=(BatchNormalization()(conv))\n",
        "conv=(Conv2D(filters=256,kernel_size=(3,3), activation=\"relu\",padding=\"same\",kernel_initializer='he_normal')(conv))\n",
        "conv=(BatchNormalization()(conv))\n",
        "conv=(Conv2D(filters=256,kernel_size=(1,1), activation=\"relu\",padding=\"same\",kernel_initializer='he_normal')(conv))\n",
        "conv=(BatchNormalization()(conv))"
      ],
      "execution_count": null,
      "outputs": []
    },
    {
      "cell_type": "code",
      "metadata": {
        "id": "qA1rFJLGSYbv"
      },
      "source": [
        "conv=(MaxPooling2D()(conv))"
      ],
      "execution_count": null,
      "outputs": []
    },
    {
      "cell_type": "code",
      "metadata": {
        "id": "JDpRx5IESYb9"
      },
      "source": [
        "conv=(Conv2D(filters=512,kernel_size=(3,3), activation=\"relu\",padding=\"same\",kernel_initializer='he_normal')(conv))\n",
        "conv=(BatchNormalization()(conv))\n",
        "conv=(Conv2D(filters=512,kernel_size=(3,3), activation=\"relu\",padding=\"same\",kernel_initializer='he_normal')(conv))\n",
        "conv=(BatchNormalization()(conv))\n",
        "conv=(Conv2D(filters=512,kernel_size=(1,1), activation=\"relu\",padding=\"same\",kernel_initializer='he_normal')(conv))\n",
        "conv=(BatchNormalization()(conv))"
      ],
      "execution_count": null,
      "outputs": []
    },
    {
      "cell_type": "code",
      "metadata": {
        "id": "P8rTETMOdR1N"
      },
      "source": [
        "conv=(MaxPooling2D()(conv))"
      ],
      "execution_count": null,
      "outputs": []
    },
    {
      "cell_type": "code",
      "metadata": {
        "id": "NrLMX3RCSYcP"
      },
      "source": [
        "conv=(Conv2D(filters=512,kernel_size=(3,3), activation=\"relu\",padding=\"same\",kernel_initializer='he_normal')(conv))\n",
        "conv=(BatchNormalization()(conv))\n",
        "conv=(Conv2D(filters=512,kernel_size=(3,3), activation=\"relu\",padding=\"same\",kernel_initializer='he_normal')(conv))\n",
        "conv=(BatchNormalization()(conv))\n",
        "conv=(Conv2D(filters=512,kernel_size=(1,1), activation=\"relu\",padding=\"same\",kernel_initializer='he_normal')(conv))\n",
        "conv=(BatchNormalization()(conv))"
      ],
      "execution_count": null,
      "outputs": []
    },
    {
      "cell_type": "code",
      "metadata": {
        "id": "eo8E7RxUSYcW"
      },
      "source": [
        "conv=(MaxPooling2D(pool_size=(4, 4),padding=\"same\")(conv))"
      ],
      "execution_count": null,
      "outputs": []
    },
    {
      "cell_type": "code",
      "metadata": {
        "id": "-EdFxKdgSYcf"
      },
      "source": [
        "conv=(Flatten()(conv))\n",
        "conv=(Dense(4096,activation=\"relu\")(conv))\n",
        "conv=(Dense(4096,activation=\"relu\")(conv))\n",
        "conv=(Dense(7, activation=\"softmax\")(conv))\n",
        "\n",
        "model = Model(inputs=MainInput, outputs=conv)"
      ],
      "execution_count": null,
      "outputs": []
    },
    {
      "cell_type": "code",
      "metadata": {
        "colab": {
          "base_uri": "https://localhost:8080/"
        },
        "id": "ba8ajOckSYcl",
        "outputId": "f0b2bee5-b4b3-47b2-add2-19f005c10250"
      },
      "source": [
        "\n",
        "model.summary()"
      ],
      "execution_count": null,
      "outputs": [
        {
          "output_type": "stream",
          "text": [
            "Model: \"model\"\n",
            "_________________________________________________________________\n",
            "Layer (type)                 Output Shape              Param #   \n",
            "=================================================================\n",
            "input_1 (InputLayer)         [(None, 224, 224, 3)]     0         \n",
            "_________________________________________________________________\n",
            "conv2d (Conv2D)              (None, 224, 224, 64)      1792      \n",
            "_________________________________________________________________\n",
            "batch_normalization (BatchNo (None, 224, 224, 64)      256       \n",
            "_________________________________________________________________\n",
            "conv2d_1 (Conv2D)            (None, 224, 224, 64)      4160      \n",
            "_________________________________________________________________\n",
            "batch_normalization_1 (Batch (None, 224, 224, 64)      256       \n",
            "_________________________________________________________________\n",
            "max_pooling2d (MaxPooling2D) (None, 112, 112, 64)      0         \n",
            "_________________________________________________________________\n",
            "conv2d_2 (Conv2D)            (None, 112, 112, 128)     73856     \n",
            "_________________________________________________________________\n",
            "batch_normalization_2 (Batch (None, 112, 112, 128)     512       \n",
            "_________________________________________________________________\n",
            "conv2d_3 (Conv2D)            (None, 112, 112, 128)     16512     \n",
            "_________________________________________________________________\n",
            "batch_normalization_3 (Batch (None, 112, 112, 128)     512       \n",
            "_________________________________________________________________\n",
            "max_pooling2d_1 (MaxPooling2 (None, 56, 56, 128)       0         \n",
            "_________________________________________________________________\n",
            "conv2d_4 (Conv2D)            (None, 56, 56, 256)       295168    \n",
            "_________________________________________________________________\n",
            "batch_normalization_4 (Batch (None, 56, 56, 256)       1024      \n",
            "_________________________________________________________________\n",
            "conv2d_5 (Conv2D)            (None, 56, 56, 256)       590080    \n",
            "_________________________________________________________________\n",
            "batch_normalization_5 (Batch (None, 56, 56, 256)       1024      \n",
            "_________________________________________________________________\n",
            "conv2d_6 (Conv2D)            (None, 56, 56, 256)       65792     \n",
            "_________________________________________________________________\n",
            "batch_normalization_6 (Batch (None, 56, 56, 256)       1024      \n",
            "_________________________________________________________________\n",
            "max_pooling2d_2 (MaxPooling2 (None, 28, 28, 256)       0         \n",
            "_________________________________________________________________\n",
            "conv2d_7 (Conv2D)            (None, 28, 28, 512)       1180160   \n",
            "_________________________________________________________________\n",
            "batch_normalization_7 (Batch (None, 28, 28, 512)       2048      \n",
            "_________________________________________________________________\n",
            "conv2d_8 (Conv2D)            (None, 28, 28, 512)       2359808   \n",
            "_________________________________________________________________\n",
            "batch_normalization_8 (Batch (None, 28, 28, 512)       2048      \n",
            "_________________________________________________________________\n",
            "conv2d_9 (Conv2D)            (None, 28, 28, 512)       262656    \n",
            "_________________________________________________________________\n",
            "batch_normalization_9 (Batch (None, 28, 28, 512)       2048      \n",
            "_________________________________________________________________\n",
            "max_pooling2d_3 (MaxPooling2 (None, 14, 14, 512)       0         \n",
            "_________________________________________________________________\n",
            "conv2d_10 (Conv2D)           (None, 14, 14, 512)       2359808   \n",
            "_________________________________________________________________\n",
            "batch_normalization_10 (Batc (None, 14, 14, 512)       2048      \n",
            "_________________________________________________________________\n",
            "conv2d_11 (Conv2D)           (None, 14, 14, 512)       2359808   \n",
            "_________________________________________________________________\n",
            "batch_normalization_11 (Batc (None, 14, 14, 512)       2048      \n",
            "_________________________________________________________________\n",
            "conv2d_12 (Conv2D)           (None, 14, 14, 512)       262656    \n",
            "_________________________________________________________________\n",
            "batch_normalization_12 (Batc (None, 14, 14, 512)       2048      \n",
            "_________________________________________________________________\n",
            "max_pooling2d_4 (MaxPooling2 (None, 4, 4, 512)         0         \n",
            "_________________________________________________________________\n",
            "flatten (Flatten)            (None, 8192)              0         \n",
            "_________________________________________________________________\n",
            "dense (Dense)                (None, 4096)              33558528  \n",
            "_________________________________________________________________\n",
            "dense_1 (Dense)              (None, 4096)              16781312  \n",
            "_________________________________________________________________\n",
            "dense_2 (Dense)              (None, 7)                 28679     \n",
            "=================================================================\n",
            "Total params: 60,217,671\n",
            "Trainable params: 60,209,223\n",
            "Non-trainable params: 8,448\n",
            "_________________________________________________________________\n"
          ],
          "name": "stdout"
        }
      ]
    },
    {
      "cell_type": "code",
      "metadata": {
        "id": "WR0fUpy18vAZ"
      },
      "source": [
        "opt1=tf.keras.optimizers.Adam(learning_rate=0.01,epsilon=0.1)\r\n",
        "model.compile(optimizer=opt1,\r\n",
        "             loss='categorical_crossentropy',\r\n",
        "             metrics=['accuracy'])"
      ],
      "execution_count": null,
      "outputs": []
    },
    {
      "cell_type": "code",
      "metadata": {
        "id": "LAf5ha295reS"
      },
      "source": [
        "class_weights = {   \r\n",
        "                    0: 1.0,  # akiec\r\n",
        "                    1: 1.0,  # bcc\r\n",
        "                    2: 1.0,  # bkl\r\n",
        "                    3: 1.0,  # df\r\n",
        "                    4: 5.0,  # mel\r\n",
        "                    5: 1.0,  # nv\r\n",
        "                    6: 1.0,  # vasc\r\n",
        "                }\r\n",
        "\r\n",
        "\r\n",
        "checkpoint=  ModelCheckpoint(filepath ='vgg16.hdf5',monitor='val_accuracy',save_best_only=True,save_weights_only=True)\r\n",
        "\r\n",
        "\r\n"
      ],
      "execution_count": null,
      "outputs": []
    },
    {
      "cell_type": "code",
      "metadata": {
        "colab": {
          "base_uri": "https://localhost:8080/"
        },
        "id": "NUzTmiZ-8hL3",
        "outputId": "e7b9dd8c-7844-4a76-a54e-99f96d9b8ba6"
      },
      "source": [
        "Earlystop = EarlyStopping(monitor='val_loss', mode='min',patience=65, min_delta=0.001)\r\n",
        "history = model.fit(train_batches,\r\n",
        "                    steps_per_epoch=train_steps,\r\n",
        "                    epochs=300,\r\n",
        "                    verbose=2,\r\n",
        "                    validation_data=test_batches,validation_steps=len(test_df),callbacks=[checkpoint,Earlystop],class_weight=class_weights)"
      ],
      "execution_count": null,
      "outputs": [
        {
          "output_type": "stream",
          "text": [
            "Epoch 1/300\n",
            "919/919 - 80s - loss: 2.8670 - accuracy: 0.2859 - val_loss: 1.5838 - val_accuracy: 0.3213\n",
            "Epoch 2/300\n",
            "919/919 - 75s - loss: 2.4159 - accuracy: 0.2720 - val_loss: 1.4403 - val_accuracy: 0.3780\n",
            "Epoch 3/300\n",
            "919/919 - 74s - loss: 2.2912 - accuracy: 0.2678 - val_loss: 2.0536 - val_accuracy: 0.1159\n",
            "Epoch 4/300\n",
            "919/919 - 74s - loss: 2.2609 - accuracy: 0.2831 - val_loss: 1.8404 - val_accuracy: 0.0966\n",
            "Epoch 5/300\n",
            "919/919 - 74s - loss: 2.2313 - accuracy: 0.2761 - val_loss: 2.2739 - val_accuracy: 0.0531\n",
            "Epoch 6/300\n",
            "919/919 - 75s - loss: 2.1076 - accuracy: 0.3131 - val_loss: 1.5940 - val_accuracy: 0.2681\n",
            "Epoch 7/300\n",
            "919/919 - 74s - loss: 2.0572 - accuracy: 0.3485 - val_loss: 1.4330 - val_accuracy: 0.5133\n",
            "Epoch 8/300\n",
            "919/919 - 74s - loss: 1.9898 - accuracy: 0.3641 - val_loss: 0.9646 - val_accuracy: 0.6812\n",
            "Epoch 9/300\n",
            "919/919 - 74s - loss: 2.1988 - accuracy: 0.3367 - val_loss: 1.3441 - val_accuracy: 0.4324\n",
            "Epoch 10/300\n",
            "919/919 - 74s - loss: 1.9877 - accuracy: 0.3671 - val_loss: 1.2038 - val_accuracy: 0.6111\n",
            "Epoch 11/300\n",
            "919/919 - 74s - loss: 1.9149 - accuracy: 0.3887 - val_loss: 2.1005 - val_accuracy: 0.2500\n",
            "Epoch 12/300\n",
            "919/919 - 74s - loss: 1.8560 - accuracy: 0.4153 - val_loss: 1.2196 - val_accuracy: 0.4565\n",
            "Epoch 13/300\n",
            "919/919 - 74s - loss: 1.8365 - accuracy: 0.4099 - val_loss: 0.9637 - val_accuracy: 0.7041\n",
            "Epoch 14/300\n",
            "919/919 - 74s - loss: 1.8314 - accuracy: 0.4256 - val_loss: 0.7924 - val_accuracy: 0.7367\n",
            "Epoch 15/300\n",
            "919/919 - 74s - loss: 1.7682 - accuracy: 0.4386 - val_loss: 1.0089 - val_accuracy: 0.6014\n",
            "Epoch 16/300\n",
            "919/919 - 74s - loss: 1.7269 - accuracy: 0.4437 - val_loss: 0.9648 - val_accuracy: 0.6171\n",
            "Epoch 17/300\n",
            "919/919 - 74s - loss: 1.7036 - accuracy: 0.4572 - val_loss: 0.6420 - val_accuracy: 0.7754\n",
            "Epoch 18/300\n",
            "919/919 - 74s - loss: 1.6537 - accuracy: 0.4744 - val_loss: 0.7674 - val_accuracy: 0.7512\n",
            "Epoch 19/300\n",
            "919/919 - 74s - loss: 1.6805 - accuracy: 0.4680 - val_loss: 0.8355 - val_accuracy: 0.6981\n",
            "Epoch 20/300\n",
            "919/919 - 74s - loss: 1.6258 - accuracy: 0.4721 - val_loss: 0.7719 - val_accuracy: 0.7367\n",
            "Epoch 21/300\n",
            "919/919 - 74s - loss: 1.5908 - accuracy: 0.4867 - val_loss: 0.6742 - val_accuracy: 0.7669\n",
            "Epoch 22/300\n",
            "919/919 - 74s - loss: 1.4862 - accuracy: 0.5233 - val_loss: 0.6970 - val_accuracy: 0.7572\n",
            "Epoch 23/300\n",
            "919/919 - 74s - loss: 1.4850 - accuracy: 0.5270 - val_loss: 0.6685 - val_accuracy: 0.7512\n",
            "Epoch 24/300\n",
            "919/919 - 74s - loss: 1.4678 - accuracy: 0.5376 - val_loss: 0.6546 - val_accuracy: 0.7814\n",
            "Epoch 25/300\n",
            "919/919 - 74s - loss: 1.4665 - accuracy: 0.5404 - val_loss: 0.6198 - val_accuracy: 0.8019\n",
            "Epoch 26/300\n",
            "919/919 - 74s - loss: 1.4252 - accuracy: 0.5437 - val_loss: 0.6650 - val_accuracy: 0.7585\n",
            "Epoch 27/300\n",
            "919/919 - 74s - loss: 1.3972 - accuracy: 0.5600 - val_loss: 0.6791 - val_accuracy: 0.7669\n",
            "Epoch 28/300\n",
            "919/919 - 75s - loss: 1.4032 - accuracy: 0.5605 - val_loss: 0.6822 - val_accuracy: 0.7379\n",
            "Epoch 29/300\n",
            "919/919 - 75s - loss: 1.3502 - accuracy: 0.5720 - val_loss: 0.7563 - val_accuracy: 0.7246\n",
            "Epoch 30/300\n",
            "919/919 - 75s - loss: 1.3523 - accuracy: 0.5715 - val_loss: 0.6357 - val_accuracy: 0.7645\n",
            "Epoch 31/300\n",
            "919/919 - 75s - loss: 1.3614 - accuracy: 0.5754 - val_loss: 0.5383 - val_accuracy: 0.8092\n",
            "Epoch 32/300\n",
            "919/919 - 75s - loss: 1.2889 - accuracy: 0.5972 - val_loss: 0.5534 - val_accuracy: 0.8068\n",
            "Epoch 33/300\n",
            "919/919 - 74s - loss: 1.2696 - accuracy: 0.6012 - val_loss: 0.4955 - val_accuracy: 0.8225\n",
            "Epoch 34/300\n",
            "919/919 - 74s - loss: 1.2464 - accuracy: 0.6101 - val_loss: 0.7340 - val_accuracy: 0.7198\n",
            "Epoch 35/300\n",
            "919/919 - 74s - loss: 1.2668 - accuracy: 0.6060 - val_loss: 0.5255 - val_accuracy: 0.8188\n",
            "Epoch 36/300\n",
            "919/919 - 75s - loss: 1.2268 - accuracy: 0.6196 - val_loss: 0.5798 - val_accuracy: 0.8007\n",
            "Epoch 37/300\n",
            "919/919 - 75s - loss: 1.2293 - accuracy: 0.6197 - val_loss: 0.5180 - val_accuracy: 0.8273\n",
            "Epoch 38/300\n",
            "919/919 - 75s - loss: 1.2129 - accuracy: 0.6318 - val_loss: 0.6435 - val_accuracy: 0.7850\n",
            "Epoch 39/300\n",
            "919/919 - 75s - loss: 1.1368 - accuracy: 0.6467 - val_loss: 0.5648 - val_accuracy: 0.8043\n",
            "Epoch 40/300\n",
            "919/919 - 75s - loss: 1.1588 - accuracy: 0.6419 - val_loss: 0.5538 - val_accuracy: 0.8176\n",
            "Epoch 41/300\n",
            "919/919 - 75s - loss: 1.1518 - accuracy: 0.6486 - val_loss: 0.5352 - val_accuracy: 0.8104\n",
            "Epoch 42/300\n",
            "919/919 - 75s - loss: 1.1347 - accuracy: 0.6527 - val_loss: 0.6719 - val_accuracy: 0.7790\n",
            "Epoch 43/300\n",
            "919/919 - 75s - loss: 1.1483 - accuracy: 0.6510 - val_loss: 0.5343 - val_accuracy: 0.8285\n",
            "Epoch 44/300\n",
            "919/919 - 75s - loss: 1.0940 - accuracy: 0.6647 - val_loss: 0.7169 - val_accuracy: 0.7440\n",
            "Epoch 45/300\n",
            "919/919 - 75s - loss: 1.0866 - accuracy: 0.6672 - val_loss: 0.5652 - val_accuracy: 0.7971\n",
            "Epoch 46/300\n",
            "919/919 - 75s - loss: 1.0566 - accuracy: 0.6737 - val_loss: 0.4856 - val_accuracy: 0.8213\n",
            "Epoch 47/300\n",
            "919/919 - 75s - loss: 1.0838 - accuracy: 0.6669 - val_loss: 0.4781 - val_accuracy: 0.8140\n",
            "Epoch 48/300\n",
            "919/919 - 75s - loss: 1.0779 - accuracy: 0.6691 - val_loss: 0.6065 - val_accuracy: 0.7802\n",
            "Epoch 49/300\n",
            "919/919 - 75s - loss: 1.0339 - accuracy: 0.6852 - val_loss: 0.5487 - val_accuracy: 0.8297\n",
            "Epoch 50/300\n",
            "919/919 - 75s - loss: 1.0432 - accuracy: 0.6853 - val_loss: 0.6484 - val_accuracy: 0.7705\n",
            "Epoch 51/300\n",
            "919/919 - 75s - loss: 0.9831 - accuracy: 0.7017 - val_loss: 0.5617 - val_accuracy: 0.7983\n",
            "Epoch 52/300\n",
            "919/919 - 75s - loss: 1.0412 - accuracy: 0.6812 - val_loss: 0.6265 - val_accuracy: 0.7669\n",
            "Epoch 53/300\n",
            "919/919 - 75s - loss: 0.9679 - accuracy: 0.6992 - val_loss: 0.5853 - val_accuracy: 0.8019\n",
            "Epoch 54/300\n",
            "919/919 - 75s - loss: 0.9432 - accuracy: 0.7171 - val_loss: 0.5871 - val_accuracy: 0.8176\n",
            "Epoch 55/300\n",
            "919/919 - 75s - loss: 0.9699 - accuracy: 0.7088 - val_loss: 0.5295 - val_accuracy: 0.8285\n",
            "Epoch 56/300\n",
            "919/919 - 75s - loss: 0.9638 - accuracy: 0.7127 - val_loss: 0.4842 - val_accuracy: 0.8273\n",
            "Epoch 57/300\n",
            "919/919 - 75s - loss: 0.9639 - accuracy: 0.7171 - val_loss: 0.6362 - val_accuracy: 0.7995\n",
            "Epoch 58/300\n",
            "919/919 - 75s - loss: 0.9002 - accuracy: 0.7295 - val_loss: 0.6144 - val_accuracy: 0.8152\n",
            "Epoch 59/300\n",
            "919/919 - 76s - loss: 0.8908 - accuracy: 0.7371 - val_loss: 0.5454 - val_accuracy: 0.8430\n",
            "Epoch 60/300\n",
            "919/919 - 76s - loss: 0.8922 - accuracy: 0.7347 - val_loss: 0.5438 - val_accuracy: 0.8418\n",
            "Epoch 61/300\n",
            "919/919 - 75s - loss: 0.8763 - accuracy: 0.7416 - val_loss: 0.5875 - val_accuracy: 0.8261\n",
            "Epoch 62/300\n",
            "919/919 - 75s - loss: 0.9454 - accuracy: 0.7175 - val_loss: 1.4152 - val_accuracy: 0.3671\n",
            "Epoch 63/300\n",
            "919/919 - 75s - loss: 0.8887 - accuracy: 0.7373 - val_loss: 0.5771 - val_accuracy: 0.8333\n",
            "Epoch 64/300\n",
            "919/919 - 75s - loss: 0.8415 - accuracy: 0.7507 - val_loss: 0.5194 - val_accuracy: 0.8309\n",
            "Epoch 65/300\n",
            "919/919 - 75s - loss: 0.8323 - accuracy: 0.7553 - val_loss: 0.4590 - val_accuracy: 0.8490\n",
            "Epoch 66/300\n",
            "919/919 - 76s - loss: 0.8348 - accuracy: 0.7550 - val_loss: 0.5474 - val_accuracy: 0.8213\n",
            "Epoch 67/300\n",
            "919/919 - 75s - loss: 0.8449 - accuracy: 0.7533 - val_loss: 0.6362 - val_accuracy: 0.7621\n",
            "Epoch 68/300\n",
            "919/919 - 75s - loss: 0.8009 - accuracy: 0.7632 - val_loss: 0.5117 - val_accuracy: 0.8514\n",
            "Epoch 69/300\n",
            "919/919 - 75s - loss: 0.7945 - accuracy: 0.7670 - val_loss: 0.5087 - val_accuracy: 0.8116\n",
            "Epoch 70/300\n",
            "919/919 - 75s - loss: 0.7956 - accuracy: 0.7663 - val_loss: 0.5216 - val_accuracy: 0.8357\n",
            "Epoch 71/300\n",
            "919/919 - 75s - loss: 0.7978 - accuracy: 0.7684 - val_loss: 0.5276 - val_accuracy: 0.8080\n",
            "Epoch 72/300\n",
            "919/919 - 75s - loss: 0.7857 - accuracy: 0.7711 - val_loss: 0.5270 - val_accuracy: 0.8285\n",
            "Epoch 73/300\n",
            "919/919 - 75s - loss: 0.7215 - accuracy: 0.7862 - val_loss: 0.6406 - val_accuracy: 0.7814\n",
            "Epoch 74/300\n",
            "919/919 - 75s - loss: 0.7737 - accuracy: 0.7752 - val_loss: 0.4557 - val_accuracy: 0.8539\n",
            "Epoch 75/300\n",
            "919/919 - 75s - loss: 0.7604 - accuracy: 0.7810 - val_loss: 0.5001 - val_accuracy: 0.8575\n",
            "Epoch 76/300\n",
            "919/919 - 75s - loss: 0.7979 - accuracy: 0.7708 - val_loss: 0.4853 - val_accuracy: 0.8394\n",
            "Epoch 77/300\n",
            "919/919 - 75s - loss: 0.7047 - accuracy: 0.7933 - val_loss: 0.5662 - val_accuracy: 0.8225\n",
            "Epoch 78/300\n",
            "919/919 - 75s - loss: 0.7142 - accuracy: 0.7918 - val_loss: 0.5497 - val_accuracy: 0.8418\n",
            "Epoch 79/300\n",
            "919/919 - 75s - loss: 0.7631 - accuracy: 0.7884 - val_loss: 0.5621 - val_accuracy: 0.8514\n",
            "Epoch 80/300\n",
            "919/919 - 75s - loss: 0.7024 - accuracy: 0.7926 - val_loss: 0.5623 - val_accuracy: 0.8406\n",
            "Epoch 81/300\n",
            "919/919 - 75s - loss: 0.6939 - accuracy: 0.8041 - val_loss: 0.4761 - val_accuracy: 0.8418\n",
            "Epoch 82/300\n",
            "919/919 - 75s - loss: 0.7132 - accuracy: 0.7996 - val_loss: 0.5781 - val_accuracy: 0.7995\n",
            "Epoch 83/300\n",
            "919/919 - 75s - loss: 0.7572 - accuracy: 0.7871 - val_loss: 0.6039 - val_accuracy: 0.8104\n",
            "Epoch 84/300\n",
            "919/919 - 75s - loss: 0.6590 - accuracy: 0.8113 - val_loss: 0.5518 - val_accuracy: 0.8345\n",
            "Epoch 85/300\n",
            "919/919 - 75s - loss: 0.6579 - accuracy: 0.8150 - val_loss: 0.5124 - val_accuracy: 0.8454\n",
            "Epoch 86/300\n",
            "919/919 - 75s - loss: 0.7551 - accuracy: 0.7917 - val_loss: 0.5198 - val_accuracy: 0.8382\n",
            "Epoch 87/300\n",
            "919/919 - 75s - loss: 0.6615 - accuracy: 0.8137 - val_loss: 0.5062 - val_accuracy: 0.8514\n",
            "Epoch 88/300\n",
            "919/919 - 75s - loss: 0.6158 - accuracy: 0.8259 - val_loss: 0.5688 - val_accuracy: 0.8321\n",
            "Epoch 89/300\n",
            "919/919 - 75s - loss: 0.6413 - accuracy: 0.8152 - val_loss: 0.6438 - val_accuracy: 0.7874\n",
            "Epoch 90/300\n",
            "919/919 - 75s - loss: 0.6529 - accuracy: 0.8173 - val_loss: 0.6040 - val_accuracy: 0.8442\n",
            "Epoch 91/300\n",
            "919/919 - 75s - loss: 0.6230 - accuracy: 0.8307 - val_loss: 0.6100 - val_accuracy: 0.8068\n",
            "Epoch 92/300\n",
            "919/919 - 75s - loss: 0.6204 - accuracy: 0.8240 - val_loss: 0.5053 - val_accuracy: 0.8406\n",
            "Epoch 93/300\n",
            "919/919 - 75s - loss: 0.5773 - accuracy: 0.8365 - val_loss: 0.6638 - val_accuracy: 0.7935\n",
            "Epoch 94/300\n",
            "919/919 - 75s - loss: 0.5841 - accuracy: 0.8378 - val_loss: 0.5881 - val_accuracy: 0.8442\n",
            "Epoch 95/300\n",
            "919/919 - 75s - loss: 0.5756 - accuracy: 0.8353 - val_loss: 0.5875 - val_accuracy: 0.8261\n",
            "Epoch 96/300\n",
            "919/919 - 75s - loss: 0.5708 - accuracy: 0.8402 - val_loss: 0.6444 - val_accuracy: 0.8502\n",
            "Epoch 97/300\n",
            "919/919 - 75s - loss: 0.5982 - accuracy: 0.8368 - val_loss: 0.4920 - val_accuracy: 0.8551\n",
            "Epoch 98/300\n",
            "919/919 - 75s - loss: 0.5646 - accuracy: 0.8467 - val_loss: 0.5797 - val_accuracy: 0.8563\n",
            "Epoch 99/300\n",
            "919/919 - 75s - loss: 0.5887 - accuracy: 0.8345 - val_loss: 0.5241 - val_accuracy: 0.8382\n",
            "Epoch 100/300\n",
            "919/919 - 75s - loss: 0.5836 - accuracy: 0.8409 - val_loss: 0.6886 - val_accuracy: 0.8007\n",
            "Epoch 101/300\n",
            "919/919 - 75s - loss: 0.6320 - accuracy: 0.8286 - val_loss: 0.7483 - val_accuracy: 0.8225\n",
            "Epoch 102/300\n",
            "919/919 - 75s - loss: 0.6268 - accuracy: 0.8324 - val_loss: 0.6541 - val_accuracy: 0.8176\n",
            "Epoch 103/300\n",
            "919/919 - 75s - loss: 0.5695 - accuracy: 0.8483 - val_loss: 0.6956 - val_accuracy: 0.7899\n",
            "Epoch 104/300\n",
            "919/919 - 75s - loss: 0.5503 - accuracy: 0.8492 - val_loss: 0.5838 - val_accuracy: 0.8309\n",
            "Epoch 105/300\n",
            "919/919 - 75s - loss: 0.5134 - accuracy: 0.8626 - val_loss: 0.5408 - val_accuracy: 0.8514\n",
            "Epoch 106/300\n",
            "919/919 - 75s - loss: 0.5416 - accuracy: 0.8507 - val_loss: 0.7164 - val_accuracy: 0.8466\n",
            "Epoch 107/300\n",
            "919/919 - 75s - loss: 0.5163 - accuracy: 0.8624 - val_loss: 0.4972 - val_accuracy: 0.8623\n",
            "Epoch 108/300\n",
            "919/919 - 75s - loss: 0.5356 - accuracy: 0.8600 - val_loss: 0.5353 - val_accuracy: 0.8587\n",
            "Epoch 109/300\n",
            "919/919 - 75s - loss: 0.5253 - accuracy: 0.8601 - val_loss: 0.7384 - val_accuracy: 0.7778\n",
            "Epoch 110/300\n",
            "919/919 - 75s - loss: 0.5210 - accuracy: 0.8566 - val_loss: 0.5711 - val_accuracy: 0.8514\n",
            "Epoch 111/300\n",
            "919/919 - 75s - loss: 0.5188 - accuracy: 0.8634 - val_loss: 0.6846 - val_accuracy: 0.8213\n",
            "Epoch 112/300\n",
            "919/919 - 75s - loss: 0.4821 - accuracy: 0.8706 - val_loss: 0.5118 - val_accuracy: 0.8539\n",
            "Epoch 113/300\n",
            "919/919 - 75s - loss: 0.5176 - accuracy: 0.8625 - val_loss: 0.7657 - val_accuracy: 0.8043\n",
            "Epoch 114/300\n",
            "919/919 - 75s - loss: 0.5477 - accuracy: 0.8547 - val_loss: 0.6257 - val_accuracy: 0.8418\n",
            "Epoch 115/300\n",
            "919/919 - 75s - loss: 0.4856 - accuracy: 0.8701 - val_loss: 0.6248 - val_accuracy: 0.8623\n",
            "Epoch 116/300\n",
            "919/919 - 75s - loss: 0.4954 - accuracy: 0.8699 - val_loss: 0.6873 - val_accuracy: 0.8273\n",
            "Epoch 117/300\n",
            "919/919 - 75s - loss: 0.4822 - accuracy: 0.8727 - val_loss: 0.6378 - val_accuracy: 0.8285\n",
            "Epoch 118/300\n",
            "919/919 - 75s - loss: 0.5276 - accuracy: 0.8628 - val_loss: 0.5406 - val_accuracy: 0.8502\n",
            "Epoch 119/300\n",
            "919/919 - 75s - loss: 0.4263 - accuracy: 0.8861 - val_loss: 0.6109 - val_accuracy: 0.8623\n",
            "Epoch 120/300\n",
            "919/919 - 75s - loss: 0.5037 - accuracy: 0.8704 - val_loss: 0.7430 - val_accuracy: 0.8019\n",
            "Epoch 121/300\n",
            "919/919 - 75s - loss: 0.5196 - accuracy: 0.8643 - val_loss: 0.7245 - val_accuracy: 0.7959\n",
            "Epoch 122/300\n",
            "919/919 - 75s - loss: 0.4463 - accuracy: 0.8811 - val_loss: 0.6098 - val_accuracy: 0.8442\n",
            "Epoch 123/300\n",
            "919/919 - 75s - loss: 0.5995 - accuracy: 0.8501 - val_loss: 0.6048 - val_accuracy: 0.8478\n",
            "Epoch 124/300\n",
            "919/919 - 75s - loss: 0.5215 - accuracy: 0.8662 - val_loss: 0.6849 - val_accuracy: 0.8092\n",
            "Epoch 125/300\n",
            "919/919 - 75s - loss: 0.4514 - accuracy: 0.8766 - val_loss: 0.6526 - val_accuracy: 0.8635\n",
            "Epoch 126/300\n",
            "919/919 - 76s - loss: 0.4375 - accuracy: 0.8851 - val_loss: 0.7095 - val_accuracy: 0.8442\n",
            "Epoch 127/300\n",
            "919/919 - 75s - loss: 0.4890 - accuracy: 0.8733 - val_loss: 0.7486 - val_accuracy: 0.8333\n",
            "Epoch 128/300\n",
            "919/919 - 76s - loss: 0.4762 - accuracy: 0.8721 - val_loss: 0.5928 - val_accuracy: 0.8623\n",
            "Epoch 129/300\n",
            "919/919 - 76s - loss: 0.4929 - accuracy: 0.8700 - val_loss: 0.5849 - val_accuracy: 0.8684\n",
            "Epoch 130/300\n",
            "919/919 - 75s - loss: 0.4477 - accuracy: 0.8847 - val_loss: 0.5830 - val_accuracy: 0.8418\n",
            "Epoch 131/300\n",
            "919/919 - 75s - loss: 0.4491 - accuracy: 0.8881 - val_loss: 0.5801 - val_accuracy: 0.8587\n",
            "Epoch 132/300\n",
            "919/919 - 75s - loss: 0.4591 - accuracy: 0.8838 - val_loss: 0.6117 - val_accuracy: 0.8696\n",
            "Epoch 133/300\n",
            "919/919 - 75s - loss: 0.5255 - accuracy: 0.8682 - val_loss: 0.6925 - val_accuracy: 0.8418\n",
            "Epoch 134/300\n",
            "919/919 - 75s - loss: 0.4823 - accuracy: 0.8789 - val_loss: 0.6543 - val_accuracy: 0.8466\n",
            "Epoch 135/300\n",
            "919/919 - 75s - loss: 0.3933 - accuracy: 0.8956 - val_loss: 0.6826 - val_accuracy: 0.8128\n",
            "Epoch 136/300\n",
            "919/919 - 75s - loss: 0.3811 - accuracy: 0.9041 - val_loss: 0.5300 - val_accuracy: 0.8659\n",
            "Epoch 137/300\n",
            "919/919 - 75s - loss: 0.4183 - accuracy: 0.8970 - val_loss: 0.6256 - val_accuracy: 0.8466\n",
            "Epoch 138/300\n",
            "919/919 - 76s - loss: 0.4995 - accuracy: 0.8790 - val_loss: 0.7207 - val_accuracy: 0.8659\n",
            "Epoch 139/300\n",
            "919/919 - 75s - loss: 0.4234 - accuracy: 0.8965 - val_loss: 0.7822 - val_accuracy: 0.8116\n"
          ],
          "name": "stdout"
        }
      ]
    },
    {
      "cell_type": "code",
      "metadata": {
        "id": "zm_AewFBXTj8"
      },
      "source": [
        "from tensorflow.keras import models\r\n",
        "model.load_weights(\"vgg16.hdf5\")"
      ],
      "execution_count": null,
      "outputs": []
    },
    {
      "cell_type": "code",
      "metadata": {
        "id": "kO8IxF0er88T",
        "colab": {
          "base_uri": "https://localhost:8080/"
        },
        "outputId": "3d51f029-6f74-48bd-89c1-3463b7dfd519"
      },
      "source": [
        "predictions = model.predict(test_batches, steps=len(test_df), verbose=1)"
      ],
      "execution_count": null,
      "outputs": [
        {
          "output_type": "stream",
          "text": [
            "828/828 [==============================] - 9s 11ms/step\n"
          ],
          "name": "stdout"
        }
      ]
    },
    {
      "cell_type": "code",
      "metadata": {
        "id": "KYxCDDjusR-S",
        "colab": {
          "base_uri": "https://localhost:8080/"
        },
        "outputId": "d8db0cd7-ef59-43f4-a006-50252fc8ea92"
      },
      "source": [
        "\r\n",
        "y_pred = np.argmax(predictions, axis=1)\r\n",
        "targetnames = ['akiec', 'bcc', 'bkl', 'df', 'mel', 'nv', 'vasc']\r\n",
        "# Get the labels of the test images.\r\n",
        "y_true = test_batches.classes\r\n",
        "y_prob=predictions\r\n",
        "from tensorflow.keras.utils import to_categorical\r\n",
        "y_test = to_categorical(y_true)\r\n",
        "\r\n",
        "# Create classification report with matrix labels and target names.\r\n",
        "report = classification_report(y_true, y_pred, target_names=targetnames)\r\n",
        "\r\n",
        "print(\"\\nClassification Report:\")\r\n",
        "print(report)"
      ],
      "execution_count": null,
      "outputs": [
        {
          "output_type": "stream",
          "text": [
            "\n",
            "Classification Report:\n",
            "              precision    recall  f1-score   support\n",
            "\n",
            "       akiec       0.62      0.22      0.32        23\n",
            "         bcc       0.54      0.77      0.63        26\n",
            "         bkl       0.57      0.48      0.52        66\n",
            "          df       0.25      0.17      0.20         6\n",
            "         mel       0.50      0.47      0.48        34\n",
            "          nv       0.93      0.96      0.95       663\n",
            "        vasc       1.00      0.90      0.95        10\n",
            "\n",
            "    accuracy                           0.87       828\n",
            "   macro avg       0.63      0.57      0.58       828\n",
            "weighted avg       0.86      0.87      0.86       828\n",
            "\n"
          ],
          "name": "stdout"
        }
      ]
    },
    {
      "cell_type": "code",
      "metadata": {
        "id": "yy59Zs1jqylz",
        "colab": {
          "base_uri": "https://localhost:8080/"
        },
        "outputId": "19d35f71-4c94-4aa1-dae4-0b90e7be01b9"
      },
      "source": [
        "print(\"Precision: \"+ str(precision_score(y_true, y_pred, average='weighted')))\r\n",
        "print(\"Recall: \"+ str(recall_score(y_true, y_pred, average='weighted')))\r\n",
        "print(\"Accuracy: \" + str(accuracy_score(y_true, y_pred)))\r\n",
        "print(\"weighted Roc score: \" + str(roc_auc_score(y_true,y_prob,multi_class='ovr',average='weighted')))"
      ],
      "execution_count": null,
      "outputs": [
        {
          "output_type": "stream",
          "text": [
            "Precision: 0.8621944510356151\n",
            "Recall: 0.8695652173913043\n",
            "Accuracy: 0.8695652173913043\n",
            "weighted Roc score: 0.9513705352381553\n"
          ],
          "name": "stdout"
        }
      ]
    },
    {
      "cell_type": "code",
      "metadata": {
        "id": "vFRWOB82sDKi",
        "colab": {
          "base_uri": "https://localhost:8080/"
        },
        "outputId": "1097dfff-498e-43f8-c1fb-3bea1eb3bebb"
      },
      "source": [
        "\r\n",
        "print(\"Precision: \"+ str(precision_score(y_true, y_pred, average='macro')))\r\n",
        "print(\"Recall: \"+ str(recall_score(y_true, y_pred, average='macro')))\r\n",
        "print(\"Accuracy: \" + str(accuracy_score(y_true, y_pred)))\r\n",
        "print(\"Macro Roc score: \" + str(roc_auc_score(y_true,y_prob,multi_class='ovr',average='macro')))"
      ],
      "execution_count": null,
      "outputs": [
        {
          "output_type": "stream",
          "text": [
            "Precision: 0.6315695296110043\n",
            "Recall: 0.5670728248733364\n",
            "Accuracy: 0.8695652173913043\n",
            "Macro Roc score: 0.9368145039599268\n"
          ],
          "name": "stdout"
        }
      ]
    },
    {
      "cell_type": "code",
      "metadata": {
        "id": "nDNAPv9OsRVg",
        "colab": {
          "base_uri": "https://localhost:8080/"
        },
        "outputId": "c9d796cf-6903-41cf-82be-3db0e56d81ff"
      },
      "source": [
        "print(\"Precision: \"+ str(precision_score(y_true, y_pred, average='micro')))\r\n",
        "print(\"Recall: \"+ str(recall_score(y_true, y_pred, average='micro')))\r\n",
        "print(\"Accuracy: \" + str(accuracy_score(y_true, y_pred)))\r\n",
        "tpr={}\r\n",
        "fpr={}\r\n",
        "roc_auc={}\r\n",
        "fpr[\"micro\"], tpr[\"micro\"], _ = roc_curve(y_test.ravel(), y_prob.ravel())\r\n",
        "roc_auc[\"micro\"] = auc(fpr[\"micro\"], tpr[\"micro\"])\r\n",
        "print(\"Micro Roc score: \" + str(roc_auc[\"micro\"]))"
      ],
      "execution_count": null,
      "outputs": [
        {
          "output_type": "stream",
          "text": [
            "Precision: 0.8695652173913043\n",
            "Recall: 0.8695652173913043\n",
            "Accuracy: 0.8695652173913043\n",
            "Micro Roc score: 0.9847059830256638\n"
          ],
          "name": "stdout"
        }
      ]
    },
    {
      "cell_type": "code",
      "metadata": {
        "id": "U03sRDM2sudx",
        "colab": {
          "base_uri": "https://localhost:8080/"
        },
        "outputId": "5172c173-3cac-432e-a1ab-78aa7091665e"
      },
      "source": [
        "fpr = {}\r\n",
        "tpr = {}\r\n",
        "roc_auc = {}\r\n",
        "for i in range(7):\r\n",
        "    r = roc_auc_score(y_test[:, i], y_prob[:, i])\r\n",
        "    print(\"The ROC AUC score of \"+targetnames[i]+\" is: \"+str(r))"
      ],
      "execution_count": null,
      "outputs": [
        {
          "output_type": "stream",
          "text": [
            "The ROC AUC score of akiec is: 0.949662435862814\n",
            "The ROC AUC score of bcc is: 0.9776999808171878\n",
            "The ROC AUC score of bkl is: 0.9308836395450569\n",
            "The ROC AUC score of df is: 0.8477291159772912\n",
            "The ROC AUC score of mel is: 0.9253222699659209\n",
            "The ROC AUC score of nv is: 0.9543991955756661\n",
            "The ROC AUC score of vasc is: 0.9720048899755501\n"
          ],
          "name": "stdout"
        }
      ]
    },
    {
      "cell_type": "code",
      "metadata": {
        "id": "A5nG-b11wkep"
      },
      "source": [
        "# Compute ROC curve and ROC area for each class\r\n",
        "fpr = {}\r\n",
        "tpr = {}\r\n",
        "roc_auc = dict()\r\n",
        "for i in range(7):\r\n",
        "    fpr[i], tpr[i], _ = roc_curve(y_test[:, i], y_prob[:, i], drop_intermediate=False)\r\n",
        "    roc_auc[i] = auc(fpr[i], tpr[i])"
      ],
      "execution_count": null,
      "outputs": []
    },
    {
      "cell_type": "code",
      "metadata": {
        "id": "9wz2--WDwHQ4",
        "colab": {
          "base_uri": "https://localhost:8080/",
          "height": 295
        },
        "outputId": "0ad02bab-a54c-4afb-bc7a-212e7a2bfd75"
      },
      "source": [
        "\r\n",
        "plt.plot(fpr[0], tpr[0],'v-',label='akiec: ROC curve of (area = %0.2f)' % roc_auc[0])\r\n",
        "plt.plot(fpr[1], tpr[1],'c',label='bcc: ROC curve of (area = %0.2f)' % roc_auc[1])\r\n",
        "plt.plot(fpr[2], tpr[2],'b',label='bkl: ROC curve of (area = %0.2f)' % roc_auc[2])\r\n",
        "plt.plot(fpr[3], tpr[3],'g',label='df: ROC curve of (area = %0.2f)' % roc_auc[3])\r\n",
        "plt.plot(fpr[4], tpr[4],'y',label='mel: ROC curve of (area = %0.2f)' % roc_auc[4])\r\n",
        "plt.plot(fpr[5], tpr[5],'o-',label='nv: ROC curve of (area = %0.2f)' % roc_auc[5])\r\n",
        "plt.plot(fpr[6], tpr[6],'r',label='vasc: ROC curve of (area = %0.2f)' % roc_auc[6])\r\n",
        "\r\n",
        "plt.plot([0, 1], [0, 1], 'k--')\r\n",
        "plt.xlim([-0.1, 1.1])\r\n",
        "plt.ylim([-0.1, 1.1])\r\n",
        "plt.xlabel('False Positive Rate')\r\n",
        "plt.ylabel('True Positive Rate')\r\n",
        "plt.title('Receiver operating characteristic of %s'%targetnames[i])\r\n",
        "plt.legend(loc=\"lower right\")\r\n",
        "plt.show()"
      ],
      "execution_count": null,
      "outputs": [
        {
          "output_type": "display_data",
          "data": {
            "image/png": "[encoded data removed]",
            "text/plain": [
              "<Figure size 432x288 with 1 Axes>"
            ]
          },
          "metadata": {
            "tags": [],
            "needs_background": "light"
          }
        }
      ]
    },
    {
      "cell_type": "code",
      "metadata": {
        "id": "FDTMtBeTdBfU"
      },
      "source": [
        ""
      ],
      "execution_count": null,
      "outputs": []
    }
  ]
}