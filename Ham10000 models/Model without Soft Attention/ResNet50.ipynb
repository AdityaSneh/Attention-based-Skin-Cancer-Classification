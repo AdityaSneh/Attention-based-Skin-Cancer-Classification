{
  "nbformat": 4,
  "nbformat_minor": 0,
  "metadata": {
    "accelerator": "GPU",
    "colab": {
      "name": "ResNet50.ipynb",
      "provenance": [],
      "collapsed_sections": [],
      "machine_shape": "hm"
    },
    "kernelspec": {
      "display_name": "Python 3",
      "name": "python3"
    }
  },
  "cells": [
    {
      "cell_type": "code",
      "metadata": {
        "colab": {
          "base_uri": "https://localhost:8080/"
        },
        "id": "O5X3ASNLkv3Y",
        "outputId": "93ce14fc-b723-4a0a-9f90-72060d205244"
      },
      "source": [
        "from google.colab import drive\n",
        "drive.mount('/content/drive')"
      ],
      "execution_count": 1,
      "outputs": [
        {
          "output_type": "stream",
          "text": [
            "Mounted at /content/drive\n"
          ],
          "name": "stdout"
        }
      ]
    },
    {
      "cell_type": "code",
      "metadata": {
        "id": "qTi0RAUGEfoM",
        "colab": {
          "base_uri": "https://localhost:8080/"
        },
        "outputId": "3fc96303-9e0d-4bb7-d2c0-f96374ec3005"
      },
      "source": [
        "from zipfile import ZipFile\n",
        "filename=\"/content/drive/My Drive/HAM10000.zip\"\n",
        "with ZipFile(filename,'r') as zip:\n",
        "  zip.extractall()\n",
        "  print(\"done\")\n"
      ],
      "execution_count": 2,
      "outputs": [
        {
          "output_type": "stream",
          "text": [
            "done\n"
          ],
          "name": "stdout"
        }
      ]
    },
    {
      "cell_type": "code",
      "metadata": {
        "id": "Aa36bMKLze3z"
      },
      "source": [
        "import pandas as pd\r\n",
        "import numpy as np\r\n",
        "import os\r\n",
        "import tensorflow as tf\r\n",
        "import cv2\r\n",
        "from keras import backend as K\r\n",
        "from keras.layers import Layer,InputSpec\r\n",
        "import keras.layers as kl\r\n",
        "from glob import glob\r\n",
        "from sklearn.metrics import roc_curve, auc\r\n",
        "from keras.preprocessing import image\r\n",
        "from tensorflow.keras.models import Sequential\r\n",
        "from sklearn.metrics import roc_auc_score\r\n",
        "from tensorflow.keras import callbacks \r\n",
        "from tensorflow.keras.callbacks import ModelCheckpoint,EarlyStopping\r\n",
        "from  matplotlib import pyplot as plt\r\n",
        "from tensorflow.keras import Model\r\n",
        "from tensorflow.keras.layers import concatenate,Dense, Conv2D, MaxPooling2D, Flatten,GlobalAveragePooling2D,Input,Activation,add,AveragePooling2D,BatchNormalization,Dropout\r\n",
        "%matplotlib inline\r\n",
        "import shutil\r\n",
        "from sklearn.metrics import  precision_score, recall_score, accuracy_score,classification_report ,confusion_matrix\r\n",
        "from tensorflow.python.platform import build_info as tf_build_info\r\n",
        "from tensorflow.keras.preprocessing.image import ImageDataGenerator\r\n",
        "from sklearn.model_selection import train_test_split\r\n",
        "\r\n",
        "from PIL import ImageFile\r\n",
        "ImageFile.LOAD_TRUNCATED_IMAGES = True"
      ],
      "execution_count": 3,
      "outputs": []
    },
    {
      "cell_type": "code",
      "metadata": {
        "id": "lnzRzk7e44HL",
        "colab": {
          "base_uri": "https://localhost:8080/",
          "height": 206
        },
        "outputId": "1a765338-3750-4803-f650-47c6ea25bef2"
      },
      "source": [
        "data_pd = pd.read_csv('/content/drive/MyDrive/HAM10000_metadata.csv')\r\n",
        "data_pd.head()"
      ],
      "execution_count": 4,
      "outputs": [
        {
          "output_type": "execute_result",
          "data": {
            "text/html": [
              "<div>\n",
              "<style scoped>\n",
              "    .dataframe tbody tr th:only-of-type {\n",
              "        vertical-align: middle;\n",
              "    }\n",
              "\n",
              "    .dataframe tbody tr th {\n",
              "        vertical-align: top;\n",
              "    }\n",
              "\n",
              "    .dataframe thead th {\n",
              "        text-align: right;\n",
              "    }\n",
              "</style>\n",
              "<table border=\"1\" class=\"dataframe\">\n",
              "  <thead>\n",
              "    <tr style=\"text-align: right;\">\n",
              "      <th></th>\n",
              "      <th>lesion_id</th>\n",
              "      <th>image_id</th>\n",
              "      <th>dx</th>\n",
              "      <th>dx_type</th>\n",
              "      <th>age</th>\n",
              "      <th>sex</th>\n",
              "      <th>localization</th>\n",
              "    </tr>\n",
              "  </thead>\n",
              "  <tbody>\n",
              "    <tr>\n",
              "      <th>0</th>\n",
              "      <td>HAM_0000118</td>\n",
              "      <td>ISIC_0027419</td>\n",
              "      <td>bkl</td>\n",
              "      <td>histo</td>\n",
              "      <td>80.0</td>\n",
              "      <td>male</td>\n",
              "      <td>scalp</td>\n",
              "    </tr>\n",
              "    <tr>\n",
              "      <th>1</th>\n",
              "      <td>HAM_0000118</td>\n",
              "      <td>ISIC_0025030</td>\n",
              "      <td>bkl</td>\n",
              "      <td>histo</td>\n",
              "      <td>80.0</td>\n",
              "      <td>male</td>\n",
              "      <td>scalp</td>\n",
              "    </tr>\n",
              "    <tr>\n",
              "      <th>2</th>\n",
              "      <td>HAM_0002730</td>\n",
              "      <td>ISIC_0026769</td>\n",
              "      <td>bkl</td>\n",
              "      <td>histo</td>\n",
              "      <td>80.0</td>\n",
              "      <td>male</td>\n",
              "      <td>scalp</td>\n",
              "    </tr>\n",
              "    <tr>\n",
              "      <th>3</th>\n",
              "      <td>HAM_0002730</td>\n",
              "      <td>ISIC_0025661</td>\n",
              "      <td>bkl</td>\n",
              "      <td>histo</td>\n",
              "      <td>80.0</td>\n",
              "      <td>male</td>\n",
              "      <td>scalp</td>\n",
              "    </tr>\n",
              "    <tr>\n",
              "      <th>4</th>\n",
              "      <td>HAM_0001466</td>\n",
              "      <td>ISIC_0031633</td>\n",
              "      <td>bkl</td>\n",
              "      <td>histo</td>\n",
              "      <td>75.0</td>\n",
              "      <td>male</td>\n",
              "      <td>ear</td>\n",
              "    </tr>\n",
              "  </tbody>\n",
              "</table>\n",
              "</div>"
            ],
            "text/plain": [
              "     lesion_id      image_id   dx dx_type   age   sex localization\n",
              "0  HAM_0000118  ISIC_0027419  bkl   histo  80.0  male        scalp\n",
              "1  HAM_0000118  ISIC_0025030  bkl   histo  80.0  male        scalp\n",
              "2  HAM_0002730  ISIC_0026769  bkl   histo  80.0  male        scalp\n",
              "3  HAM_0002730  ISIC_0025661  bkl   histo  80.0  male        scalp\n",
              "4  HAM_0001466  ISIC_0031633  bkl   histo  75.0  male          ear"
            ]
          },
          "metadata": {
            "tags": []
          },
          "execution_count": 4
        }
      ]
    },
    {
      "cell_type": "code",
      "metadata": {
        "id": "qlR6SjeEzXsm"
      },
      "source": [
        "train_dir = os.path.join('HAM10000', 'train_dir')\r\n",
        "test_dir = os.path.join('HAM10000', 'test_dir')"
      ],
      "execution_count": 5,
      "outputs": []
    },
    {
      "cell_type": "code",
      "metadata": {
        "id": "_IFqPgUu5jPj",
        "colab": {
          "base_uri": "https://localhost:8080/",
          "height": 206
        },
        "outputId": "7e18425a-f8e5-47f6-b0cc-49aa3b08878a"
      },
      "source": [
        "# This will tell us how many images are associated with each lesion_id.\r\n",
        "df = data_pd.groupby('lesion_id').count()\r\n",
        "\r\n",
        "# Now we filter out lesion_id's that have only one image associated with it\r\n",
        "df = df[df['image_id'] == 1]\r\n",
        "\r\n",
        "df.reset_index(inplace=True)\r\n",
        "\r\n",
        "df.head()"
      ],
      "execution_count": 6,
      "outputs": [
        {
          "output_type": "execute_result",
          "data": {
            "text/html": [
              "<div>\n",
              "<style scoped>\n",
              "    .dataframe tbody tr th:only-of-type {\n",
              "        vertical-align: middle;\n",
              "    }\n",
              "\n",
              "    .dataframe tbody tr th {\n",
              "        vertical-align: top;\n",
              "    }\n",
              "\n",
              "    .dataframe thead th {\n",
              "        text-align: right;\n",
              "    }\n",
              "</style>\n",
              "<table border=\"1\" class=\"dataframe\">\n",
              "  <thead>\n",
              "    <tr style=\"text-align: right;\">\n",
              "      <th></th>\n",
              "      <th>lesion_id</th>\n",
              "      <th>image_id</th>\n",
              "      <th>dx</th>\n",
              "      <th>dx_type</th>\n",
              "      <th>age</th>\n",
              "      <th>sex</th>\n",
              "      <th>localization</th>\n",
              "    </tr>\n",
              "  </thead>\n",
              "  <tbody>\n",
              "    <tr>\n",
              "      <th>0</th>\n",
              "      <td>HAM_0000001</td>\n",
              "      <td>1</td>\n",
              "      <td>1</td>\n",
              "      <td>1</td>\n",
              "      <td>1</td>\n",
              "      <td>1</td>\n",
              "      <td>1</td>\n",
              "    </tr>\n",
              "    <tr>\n",
              "      <th>1</th>\n",
              "      <td>HAM_0000003</td>\n",
              "      <td>1</td>\n",
              "      <td>1</td>\n",
              "      <td>1</td>\n",
              "      <td>1</td>\n",
              "      <td>1</td>\n",
              "      <td>1</td>\n",
              "    </tr>\n",
              "    <tr>\n",
              "      <th>2</th>\n",
              "      <td>HAM_0000004</td>\n",
              "      <td>1</td>\n",
              "      <td>1</td>\n",
              "      <td>1</td>\n",
              "      <td>1</td>\n",
              "      <td>1</td>\n",
              "      <td>1</td>\n",
              "    </tr>\n",
              "    <tr>\n",
              "      <th>3</th>\n",
              "      <td>HAM_0000007</td>\n",
              "      <td>1</td>\n",
              "      <td>1</td>\n",
              "      <td>1</td>\n",
              "      <td>1</td>\n",
              "      <td>1</td>\n",
              "      <td>1</td>\n",
              "    </tr>\n",
              "    <tr>\n",
              "      <th>4</th>\n",
              "      <td>HAM_0000008</td>\n",
              "      <td>1</td>\n",
              "      <td>1</td>\n",
              "      <td>1</td>\n",
              "      <td>1</td>\n",
              "      <td>1</td>\n",
              "      <td>1</td>\n",
              "    </tr>\n",
              "  </tbody>\n",
              "</table>\n",
              "</div>"
            ],
            "text/plain": [
              "     lesion_id  image_id  dx  dx_type  age  sex  localization\n",
              "0  HAM_0000001         1   1        1    1    1             1\n",
              "1  HAM_0000003         1   1        1    1    1             1\n",
              "2  HAM_0000004         1   1        1    1    1             1\n",
              "3  HAM_0000007         1   1        1    1    1             1\n",
              "4  HAM_0000008         1   1        1    1    1             1"
            ]
          },
          "metadata": {
            "tags": []
          },
          "execution_count": 6
        }
      ]
    },
    {
      "cell_type": "code",
      "metadata": {
        "id": "NeVfs-Ly95gs"
      },
      "source": [
        "def identify_duplicates(x):\r\n",
        "\r\n",
        "    # Generate a list of items with unique lesion ids from df array.\r\n",
        "    unique_list = list(df['lesion_id'])\r\n",
        "\r\n",
        "    if x in unique_list:\r\n",
        "        return 'no_duplicates'\r\n",
        "    else:\r\n",
        "        return 'has_duplicates'"
      ],
      "execution_count": 7,
      "outputs": []
    },
    {
      "cell_type": "code",
      "metadata": {
        "id": "2WZZRSzO5v8t"
      },
      "source": [
        "\r\n",
        "# create a new column that is a copy of the lesion_id column\r\n",
        "data_pd['duplicates'] = data_pd['lesion_id']\r\n",
        "# apply the function to this new column\r\n",
        "data_pd['duplicates'] = data_pd['duplicates'].apply(identify_duplicates)\r\n",
        "\r\n",
        "data_pd.head()\r\n",
        "\r\n",
        "df = data_pd[data_pd['duplicates'] == 'no_duplicates']\r\n",
        "\r\n",
        "# Now we create a test set using df because we are sure that none of these images\r\n",
        "# have augmented duplicates in the train set\r\n",
        "y = df['dx']\r\n",
        "\r\n",
        "_, test_df = train_test_split(df, test_size=0.15, random_state=101, stratify=y)\r\n",
        "\r\n"
      ],
      "execution_count": 8,
      "outputs": []
    },
    {
      "cell_type": "code",
      "metadata": {
        "id": "9xVuPVd79SbD"
      },
      "source": [
        "# This set will be data_pd excluding all rows that are in the test set\r\n",
        "\r\n",
        "# This function identifies if an image is part of the train\r\n",
        "# or test set.\r\n",
        "def identify_test_rows(x):\r\n",
        "    # create a list of all the lesion_id's in the test set\r\n",
        "    test_list = list(test_df['image_id'])\r\n",
        "\r\n",
        "    if str(x) in test_list:\r\n",
        "        return 'test'\r\n",
        "    else:\r\n",
        "        return 'train'\r\n",
        "\r\n",
        "\r\n",
        "# Copy image_id column to train_or_test column.\r\n",
        "data_pd['train_or_test'] = data_pd['image_id']\r\n",
        "\r\n",
        "\r\n",
        "# Apply identify_test_rows to this copied column.     \r\n",
        "data_pd['train_or_test'] = data_pd['train_or_test'].apply(identify_test_rows)\r\n",
        "\r\n",
        "\r\n",
        "# Add data that is part of the training dataset by using applied function and taking result.\r\n",
        "train_df = data_pd[data_pd['train_or_test'] == 'train']\r\n",
        "\r\n",
        "\r\n",
        "\r\n",
        "\r\n",
        "# Get a list of train and test images\r\n",
        "train_list = list(train_df['image_id'])\r\n",
        "test_list = list(test_df['image_id'])\r\n"
      ],
      "execution_count": 9,
      "outputs": []
    },
    {
      "cell_type": "code",
      "metadata": {
        "id": "eEChk1DK-H8Z",
        "colab": {
          "base_uri": "https://localhost:8080/"
        },
        "outputId": "5b591c7a-490d-40fe-8b03-3b8ab9fba2c3"
      },
      "source": [
        "len(train_list)"
      ],
      "execution_count": 10,
      "outputs": [
        {
          "output_type": "execute_result",
          "data": {
            "text/plain": [
              "9187"
            ]
          },
          "metadata": {
            "tags": []
          },
          "execution_count": 10
        }
      ]
    },
    {
      "cell_type": "code",
      "metadata": {
        "id": "PIoMqylGAYYZ"
      },
      "source": [
        "# Set the image_id as the index in data_pd\r\n",
        "data_pd.set_index('image_id', inplace=True)"
      ],
      "execution_count": 11,
      "outputs": []
    },
    {
      "cell_type": "code",
      "metadata": {
        "id": "Ja_PtDYyDPMM"
      },
      "source": [
        "os.mkdir(train_dir)\r\n",
        "os.mkdir(test_dir)"
      ],
      "execution_count": 12,
      "outputs": []
    },
    {
      "cell_type": "code",
      "metadata": {
        "id": "PsoqCvNsgmHP"
      },
      "source": [
        "targetnames = ['akiec', 'bcc', 'bkl', 'df', 'mel', 'nv', 'vasc']"
      ],
      "execution_count": 13,
      "outputs": []
    },
    {
      "cell_type": "code",
      "metadata": {
        "id": "9KYMTQugCmRR"
      },
      "source": [
        "for i in targetnames:\r\n",
        "  directory1=train_dir+'/'+i\r\n",
        "  directory2=test_dir+'/'+i\r\n",
        "  os.mkdir(directory1)\r\n",
        "  os.mkdir(directory2)\r\n"
      ],
      "execution_count": 14,
      "outputs": []
    },
    {
      "cell_type": "code",
      "metadata": {
        "id": "GL9vFa3X-ty1"
      },
      "source": [
        "for image in train_list:\r\n",
        "\r\n",
        "    file_name = image+'.jpg'\r\n",
        "    label = data_pd.loc[image, 'dx']\r\n",
        "\r\n",
        "\r\n",
        "    # destination path to image\r\n",
        "    source = os.path.join('HAM10000', file_name)\r\n",
        "\r\n",
        "    # copy the image from the source to the destination\r\n",
        "    dest = os.path.join(train_dir, label, file_name)\r\n",
        "\r\n",
        "    shutil.copyfile(source, dest)"
      ],
      "execution_count": 15,
      "outputs": []
    },
    {
      "cell_type": "code",
      "metadata": {
        "id": "hwbKrEzJ_if2"
      },
      "source": [
        "\r\n",
        "for image in test_list:\r\n",
        "\r\n",
        "    # Set all file names as name + jpeg extension.\r\n",
        "    file_name = image+'.jpg'\r\n",
        "    label = data_pd.loc[image, 'dx']\r\n",
        "\r\n",
        "    # destination path to image\r\n",
        "    source = os.path.join('HAM10000', file_name)\r\n",
        "\r\n",
        "    # copy the image from the source to the destination\r\n",
        "    dest = os.path.join(test_dir, label, file_name)\r\n",
        "\r\n",
        "    shutil.copyfile(source, dest)"
      ],
      "execution_count": 16,
      "outputs": []
    },
    {
      "cell_type": "code",
      "metadata": {
        "id": "4W8hmE2OHjQa",
        "colab": {
          "base_uri": "https://localhost:8080/"
        },
        "outputId": "10546cd0-6b75-4acf-b68a-0c49a6084f3e"
      },
      "source": [
        "\r\n",
        "\r\n",
        "targetnames = ['akiec', 'bcc', 'bkl', 'df', 'mel', 'nv', 'vasc']\r\n",
        "\r\n",
        "# Create an augmented dataset which will expand the dataset of all image\r\n",
        "# classes.\r\n",
        "for item in targetnames:\r\n",
        "\r\n",
        "    # We are creating temporary directories here because we delete these directories later\r\n",
        "    # create a base dir\r\n",
        "    aug_dir = 'aug_dir'\r\n",
        "    os.mkdir(aug_dir)\r\n",
        "    # create a dir within the base dir to store images of the same class\r\n",
        "    img_dir = os.path.join(aug_dir, 'img_dir')\r\n",
        "    os.mkdir(img_dir)\r\n",
        "\r\n",
        "    # Get class from class_list array. Represents respective file in HAM10000 dir.\r\n",
        "    img_class = item\r\n",
        "\r\n",
        "    # list all images in that directory\r\n",
        "    img_list = os.listdir('HAM10000/train_dir/' + img_class)\r\n",
        "\r\n",
        "    # Copy images from the class train dir to the img_dir e.g. class 'mel'\r\n",
        "    for file_name in img_list:\r\n",
        "\r\n",
        "        # Create source directory which is in training directory.\r\n",
        "        src = os.path.join('HAM10000/train_dir/' + img_class, file_name)\r\n",
        "\r\n",
        "        # Create destination folder which is in image directory.\r\n",
        "        dst = os.path.join(img_dir, file_name)\r\n",
        "\r\n",
        "        # Copy all images from src -> dst folder.\r\n",
        "        shutil.copyfile(src, dst)\r\n",
        "\r\n",
        "    # Temporary augumented dataset directory, will be deleted upon training.\r\n",
        "    path = aug_dir\r\n",
        "\r\n",
        "    # Set our save path to training directory for all augmented imgs produced.\r\n",
        "    save_path = 'HAM10000/train_dir/' + img_class\r\n",
        "\r\n",
        "    # Create Datagen generator.\r\n",
        "    # We will be using an ImageDataGenerator because we are processing\r\n",
        "    datagen = tf.keras.preprocessing.image.ImageDataGenerator(\r\n",
        "\r\n",
        "        rotation_range=180,\r\n",
        "        width_shift_range=0.1,\r\n",
        "        height_shift_range=0.1,\r\n",
        "        zoom_range=0.1,\r\n",
        "        horizontal_flip=True,\r\n",
        "        vertical_flip=True,\r\n",
        "        fill_mode='nearest'\r\n",
        "\r\n",
        "    )\r\n",
        "\r\n",
        "    batch_size = 50\r\n",
        "\r\n",
        "    aug_datagen = datagen.flow_from_directory(path,save_to_dir=save_path,save_format='jpg',target_size=(224, 224),batch_size=batch_size)\r\n",
        "\r\n",
        "    # Generate the augmented images and add them to the training folders\r\n",
        "    num_aug_images_wanted = 8000  # total number of images we want to have in each class\r\n",
        "\r\n",
        "    num_files = len(os.listdir(img_dir))\r\n",
        "    num_batches = int(np.ceil((num_aug_images_wanted - num_files) / batch_size))\r\n",
        "\r\n",
        "    # run the generator and create about 8000 augmented images\r\n",
        "    for i in range(0, num_batches):\r\n",
        "        images, labels = next(aug_datagen)\r\n",
        "\r\n",
        "    # delete temporary directory with the raw image files\r\n",
        "    shutil.rmtree('aug_dir')\r\n",
        "\r\n",
        "    # End for loop\r\n"
      ],
      "execution_count": 17,
      "outputs": [
        {
          "output_type": "stream",
          "text": [
            "Found 304 images belonging to 1 classes.\n",
            "Found 488 images belonging to 1 classes.\n",
            "Found 1033 images belonging to 1 classes.\n",
            "Found 109 images belonging to 1 classes.\n",
            "Found 1079 images belonging to 1 classes.\n",
            "Found 6042 images belonging to 1 classes.\n",
            "Found 132 images belonging to 1 classes.\n"
          ],
          "name": "stdout"
        }
      ]
    },
    {
      "cell_type": "code",
      "metadata": {
        "id": "wNisha_gM3_Z",
        "colab": {
          "base_uri": "https://localhost:8080/"
        },
        "outputId": "f5df950b-34eb-4f7b-ecb6-7885c55660a4"
      },
      "source": [
        "\r\n",
        "# BUILD MODEL\r\n",
        "\r\n",
        "train_path = 'HAM10000/train_dir'\r\n",
        "test_path = 'HAM10000/test_dir'\r\n",
        "\r\n",
        "train_samples = len(train_df)\r\n",
        "test_samples = len(test_df)\r\n",
        "\r\n",
        "train_batch_size = 10\r\n",
        "test_batch_size = 10\r\n",
        "image_size = 224\r\n",
        "\r\n",
        "# Divide total # of samples by batch size to section off training samples into steps.\r\n",
        "# Then round up with np.ceil function.\r\n",
        "train_steps = np.ceil(train_samples / train_batch_size)\r\n",
        "test_steps = np.ceil(test_samples / test_batch_size)\r\n",
        "\r\n",
        "# Create an Image Data Generator to input later into our model.\r\n",
        "datagen=ImageDataGenerator(preprocessing_function=tf.keras.applications.inception_resnet_v2.preprocess_input)\r\n",
        "\r\n",
        "\r\n",
        "### GETTING BATCHES FROM DIRECTORY PATHS ###\r\n",
        "print(\"\\nTrain Batches: \")\r\n",
        "train_batches = datagen.flow_from_directory(directory=train_path,\r\n",
        "                                            target_size=(image_size,image_size),\r\n",
        "                                            batch_size=train_batch_size,\r\n",
        "                                            shuffle=True)\r\n",
        "\r\n",
        "\r\n",
        "\r\n",
        "print(\"\\nTest Batches: \")\r\n",
        "test_batches =datagen.flow_from_directory(test_path,\r\n",
        "                                           target_size=(image_size,image_size),\r\n",
        "                                           batch_size=1,\r\n",
        "                                           shuffle=False)\r\n"
      ],
      "execution_count": 18,
      "outputs": [
        {
          "output_type": "stream",
          "text": [
            "\n",
            "Train Batches: \n",
            "Found 51699 images belonging to 7 classes.\n",
            "\n",
            "Test Batches: \n",
            "Found 828 images belonging to 7 classes.\n"
          ],
          "name": "stdout"
        }
      ]
    },
    {
      "cell_type": "code",
      "metadata": {
        "id": "AbwfHcsOPKYB"
      },
      "source": [
        "#Soft Attention\n",
        "\n",
        "from keras import backend as K\n",
        "from keras.layers import Layer,InputSpec\n",
        "import keras.layers as kl\n",
        "import tensorflow as tf\n",
        "\n",
        "\n",
        "\n",
        "class SoftAttention(Layer):\n",
        "    def __init__(self,ch,m,concat_with_x=False,aggregate=False,**kwargs):\n",
        "        self.channels=int(ch)\n",
        "        self.multiheads = m\n",
        "        self.aggregate_channels = aggregate\n",
        "        self.concat_input_with_scaled = concat_with_x\n",
        "\n",
        "        \n",
        "        super(SoftAttention,self).__init__(**kwargs)\n",
        "\n",
        "    def build(self,input_shape):\n",
        "\n",
        "        self.i_shape = input_shape\n",
        "\n",
        "        kernel_shape_conv3d = (self.channels, 3, 3) + (1, self.multiheads) # DHWC\n",
        "    \n",
        "        self.out_attention_maps_shape = input_shape[0:1]+(self.multiheads,)+input_shape[1:-1]\n",
        "        \n",
        "        if self.aggregate_channels==False:\n",
        "\n",
        "            self.out_features_shape = input_shape[:-1]+(input_shape[-1]+(input_shape[-1]*self.multiheads),)\n",
        "        else:\n",
        "            if self.concat_input_with_scaled:\n",
        "                self.out_features_shape = input_shape[:-1]+(input_shape[-1]*2,)\n",
        "            else:\n",
        "                self.out_features_shape = input_shape\n",
        "        \n",
        "\n",
        "        self.kernel_conv3d = self.add_weight(shape=kernel_shape_conv3d,\n",
        "                                        initializer='he_uniform',\n",
        "                                        name='kernel_conv3d')\n",
        "        self.bias_conv3d = self.add_weight(shape=(self.multiheads,),\n",
        "                                      initializer='zeros',\n",
        "                                      name='bias_conv3d')\n",
        "\n",
        "        super(SoftAttention, self).build(input_shape)\n",
        "\n",
        "    def call(self, x):\n",
        "\n",
        "        exp_x = K.expand_dims(x,axis=-1)\n",
        "\n",
        "        c3d = K.conv3d(exp_x,\n",
        "                     kernel=self.kernel_conv3d,\n",
        "                     strides=(1,1,self.i_shape[-1]), padding='same', data_format='channels_last')\n",
        "        conv3d = K.bias_add(c3d,\n",
        "                        self.bias_conv3d)\n",
        "        conv3d = kl.Activation('relu')(conv3d)\n",
        "\n",
        "        conv3d = K.permute_dimensions(conv3d,pattern=(0,4,1,2,3))\n",
        "\n",
        "        \n",
        "        conv3d = K.squeeze(conv3d, axis=-1)\n",
        "        conv3d = K.reshape(conv3d,shape=(-1, self.multiheads ,self.i_shape[1]*self.i_shape[2]))\n",
        "\n",
        "        softmax_alpha = K.softmax(conv3d, axis=-1) \n",
        "        softmax_alpha = kl.Reshape(target_shape=(self.multiheads, self.i_shape[1],self.i_shape[2]))(softmax_alpha)\n",
        "\n",
        "        \n",
        "        if self.aggregate_channels==False:\n",
        "            exp_softmax_alpha = K.expand_dims(softmax_alpha, axis=-1)       \n",
        "            exp_softmax_alpha = K.permute_dimensions(exp_softmax_alpha,pattern=(0,2,3,1,4))\n",
        "   \n",
        "            x_exp = K.expand_dims(x,axis=-2)\n",
        "   \n",
        "            u = kl.Multiply()([exp_softmax_alpha, x_exp])   \n",
        "  \n",
        "            u = kl.Reshape(target_shape=(self.i_shape[1],self.i_shape[2],u.shape[-1]*u.shape[-2]))(u)\n",
        "\n",
        "        else:\n",
        "            exp_softmax_alpha = K.permute_dimensions(softmax_alpha,pattern=(0,2,3,1))\n",
        "\n",
        "            exp_softmax_alpha = K.sum(exp_softmax_alpha,axis=-1)\n",
        "\n",
        "            exp_softmax_alpha = K.expand_dims(exp_softmax_alpha, axis=-1)\n",
        "\n",
        "            u = kl.Multiply()([exp_softmax_alpha, x])   \n",
        "\n",
        "        if self.concat_input_with_scaled:\n",
        "            o = kl.Concatenate(axis=-1)([u,x])\n",
        "        else:\n",
        "            o = u\n",
        "        \n",
        "        return [o, softmax_alpha]\n",
        "\n",
        "    def compute_output_shape(self, input_shape): \n",
        "        return [self.out_features_shape, self.out_attention_maps_shape]\n",
        "\n",
        "    \n",
        "    def get_config(self):\n",
        "        return super(SoftAttention,self).get_config()\n",
        " "
      ],
      "execution_count": 19,
      "outputs": []
    },
    {
      "cell_type": "code",
      "metadata": {
        "id": "VrlJwba5By1A",
        "colab": {
          "base_uri": "https://localhost:8080/"
        },
        "outputId": "1735d18d-bc75-472c-b83d-1a2bb050d853"
      },
      "source": [
        "resnet = tf.keras.applications.ResNet50(\r\n",
        "    include_top=True,\r\n",
        "    weights=\"imagenet\",\r\n",
        "    input_tensor=None,\r\n",
        "    input_shape=None,\r\n",
        "    pooling=None,\r\n",
        "    classes=1000,\r\n",
        ")\r\n",
        "\r\n",
        "# Exclude the last 3 layers of the model.\r\n",
        "conv = resnet.layers[-3].output"
      ],
      "execution_count": 20,
      "outputs": [
        {
          "output_type": "stream",
          "text": [
            "Downloading data from https://storage.googleapis.com/tensorflow/keras-applications/resnet/resnet50_weights_tf_dim_ordering_tf_kernels.h5\n",
            "102973440/102967424 [==============================] - 2s 0us/step\n"
          ],
          "name": "stdout"
        }
      ]
    },
    {
      "cell_type": "code",
      "metadata": {
        "id": "R13YR5JxVpOg"
      },
      "source": [
        "\r\n",
        "output = GlobalAveragePooling2D()(conv)\r\n",
        "output = Dense(7, activation='softmax')(output)\r\n",
        "model = Model(inputs=resnet.input, outputs=output)"
      ],
      "execution_count": 21,
      "outputs": []
    },
    {
      "cell_type": "code",
      "metadata": {
        "id": "BD2GGKGNV23W",
        "colab": {
          "base_uri": "https://localhost:8080/"
        },
        "outputId": "cd97c665-9eef-4165-ec1a-8c6a7f0392ab"
      },
      "source": [
        "model.summary()"
      ],
      "execution_count": 22,
      "outputs": [
        {
          "output_type": "stream",
          "text": [
            "Model: \"model\"\n",
            "__________________________________________________________________________________________________\n",
            "Layer (type)                    Output Shape         Param #     Connected to                     \n",
            "==================================================================================================\n",
            "input_1 (InputLayer)            [(None, 224, 224, 3) 0                                            \n",
            "__________________________________________________________________________________________________\n",
            "conv1_pad (ZeroPadding2D)       (None, 230, 230, 3)  0           input_1[0][0]                    \n",
            "__________________________________________________________________________________________________\n",
            "conv1_conv (Conv2D)             (None, 112, 112, 64) 9472        conv1_pad[0][0]                  \n",
            "__________________________________________________________________________________________________\n",
            "conv1_bn (BatchNormalization)   (None, 112, 112, 64) 256         conv1_conv[0][0]                 \n",
            "__________________________________________________________________________________________________\n",
            "conv1_relu (Activation)         (None, 112, 112, 64) 0           conv1_bn[0][0]                   \n",
            "__________________________________________________________________________________________________\n",
            "pool1_pad (ZeroPadding2D)       (None, 114, 114, 64) 0           conv1_relu[0][0]                 \n",
            "__________________________________________________________________________________________________\n",
            "pool1_pool (MaxPooling2D)       (None, 56, 56, 64)   0           pool1_pad[0][0]                  \n",
            "__________________________________________________________________________________________________\n",
            "conv2_block1_1_conv (Conv2D)    (None, 56, 56, 64)   4160        pool1_pool[0][0]                 \n",
            "__________________________________________________________________________________________________\n",
            "conv2_block1_1_bn (BatchNormali (None, 56, 56, 64)   256         conv2_block1_1_conv[0][0]        \n",
            "__________________________________________________________________________________________________\n",
            "conv2_block1_1_relu (Activation (None, 56, 56, 64)   0           conv2_block1_1_bn[0][0]          \n",
            "__________________________________________________________________________________________________\n",
            "conv2_block1_2_conv (Conv2D)    (None, 56, 56, 64)   36928       conv2_block1_1_relu[0][0]        \n",
            "__________________________________________________________________________________________________\n",
            "conv2_block1_2_bn (BatchNormali (None, 56, 56, 64)   256         conv2_block1_2_conv[0][0]        \n",
            "__________________________________________________________________________________________________\n",
            "conv2_block1_2_relu (Activation (None, 56, 56, 64)   0           conv2_block1_2_bn[0][0]          \n",
            "__________________________________________________________________________________________________\n",
            "conv2_block1_0_conv (Conv2D)    (None, 56, 56, 256)  16640       pool1_pool[0][0]                 \n",
            "__________________________________________________________________________________________________\n",
            "conv2_block1_3_conv (Conv2D)    (None, 56, 56, 256)  16640       conv2_block1_2_relu[0][0]        \n",
            "__________________________________________________________________________________________________\n",
            "conv2_block1_0_bn (BatchNormali (None, 56, 56, 256)  1024        conv2_block1_0_conv[0][0]        \n",
            "__________________________________________________________________________________________________\n",
            "conv2_block1_3_bn (BatchNormali (None, 56, 56, 256)  1024        conv2_block1_3_conv[0][0]        \n",
            "__________________________________________________________________________________________________\n",
            "conv2_block1_add (Add)          (None, 56, 56, 256)  0           conv2_block1_0_bn[0][0]          \n",
            "                                                                 conv2_block1_3_bn[0][0]          \n",
            "__________________________________________________________________________________________________\n",
            "conv2_block1_out (Activation)   (None, 56, 56, 256)  0           conv2_block1_add[0][0]           \n",
            "__________________________________________________________________________________________________\n",
            "conv2_block2_1_conv (Conv2D)    (None, 56, 56, 64)   16448       conv2_block1_out[0][0]           \n",
            "__________________________________________________________________________________________________\n",
            "conv2_block2_1_bn (BatchNormali (None, 56, 56, 64)   256         conv2_block2_1_conv[0][0]        \n",
            "__________________________________________________________________________________________________\n",
            "conv2_block2_1_relu (Activation (None, 56, 56, 64)   0           conv2_block2_1_bn[0][0]          \n",
            "__________________________________________________________________________________________________\n",
            "conv2_block2_2_conv (Conv2D)    (None, 56, 56, 64)   36928       conv2_block2_1_relu[0][0]        \n",
            "__________________________________________________________________________________________________\n",
            "conv2_block2_2_bn (BatchNormali (None, 56, 56, 64)   256         conv2_block2_2_conv[0][0]        \n",
            "__________________________________________________________________________________________________\n",
            "conv2_block2_2_relu (Activation (None, 56, 56, 64)   0           conv2_block2_2_bn[0][0]          \n",
            "__________________________________________________________________________________________________\n",
            "conv2_block2_3_conv (Conv2D)    (None, 56, 56, 256)  16640       conv2_block2_2_relu[0][0]        \n",
            "__________________________________________________________________________________________________\n",
            "conv2_block2_3_bn (BatchNormali (None, 56, 56, 256)  1024        conv2_block2_3_conv[0][0]        \n",
            "__________________________________________________________________________________________________\n",
            "conv2_block2_add (Add)          (None, 56, 56, 256)  0           conv2_block1_out[0][0]           \n",
            "                                                                 conv2_block2_3_bn[0][0]          \n",
            "__________________________________________________________________________________________________\n",
            "conv2_block2_out (Activation)   (None, 56, 56, 256)  0           conv2_block2_add[0][0]           \n",
            "__________________________________________________________________________________________________\n",
            "conv2_block3_1_conv (Conv2D)    (None, 56, 56, 64)   16448       conv2_block2_out[0][0]           \n",
            "__________________________________________________________________________________________________\n",
            "conv2_block3_1_bn (BatchNormali (None, 56, 56, 64)   256         conv2_block3_1_conv[0][0]        \n",
            "__________________________________________________________________________________________________\n",
            "conv2_block3_1_relu (Activation (None, 56, 56, 64)   0           conv2_block3_1_bn[0][0]          \n",
            "__________________________________________________________________________________________________\n",
            "conv2_block3_2_conv (Conv2D)    (None, 56, 56, 64)   36928       conv2_block3_1_relu[0][0]        \n",
            "__________________________________________________________________________________________________\n",
            "conv2_block3_2_bn (BatchNormali (None, 56, 56, 64)   256         conv2_block3_2_conv[0][0]        \n",
            "__________________________________________________________________________________________________\n",
            "conv2_block3_2_relu (Activation (None, 56, 56, 64)   0           conv2_block3_2_bn[0][0]          \n",
            "__________________________________________________________________________________________________\n",
            "conv2_block3_3_conv (Conv2D)    (None, 56, 56, 256)  16640       conv2_block3_2_relu[0][0]        \n",
            "__________________________________________________________________________________________________\n",
            "conv2_block3_3_bn (BatchNormali (None, 56, 56, 256)  1024        conv2_block3_3_conv[0][0]        \n",
            "__________________________________________________________________________________________________\n",
            "conv2_block3_add (Add)          (None, 56, 56, 256)  0           conv2_block2_out[0][0]           \n",
            "                                                                 conv2_block3_3_bn[0][0]          \n",
            "__________________________________________________________________________________________________\n",
            "conv2_block3_out (Activation)   (None, 56, 56, 256)  0           conv2_block3_add[0][0]           \n",
            "__________________________________________________________________________________________________\n",
            "conv3_block1_1_conv (Conv2D)    (None, 28, 28, 128)  32896       conv2_block3_out[0][0]           \n",
            "__________________________________________________________________________________________________\n",
            "conv3_block1_1_bn (BatchNormali (None, 28, 28, 128)  512         conv3_block1_1_conv[0][0]        \n",
            "__________________________________________________________________________________________________\n",
            "conv3_block1_1_relu (Activation (None, 28, 28, 128)  0           conv3_block1_1_bn[0][0]          \n",
            "__________________________________________________________________________________________________\n",
            "conv3_block1_2_conv (Conv2D)    (None, 28, 28, 128)  147584      conv3_block1_1_relu[0][0]        \n",
            "__________________________________________________________________________________________________\n",
            "conv3_block1_2_bn (BatchNormali (None, 28, 28, 128)  512         conv3_block1_2_conv[0][0]        \n",
            "__________________________________________________________________________________________________\n",
            "conv3_block1_2_relu (Activation (None, 28, 28, 128)  0           conv3_block1_2_bn[0][0]          \n",
            "__________________________________________________________________________________________________\n",
            "conv3_block1_0_conv (Conv2D)    (None, 28, 28, 512)  131584      conv2_block3_out[0][0]           \n",
            "__________________________________________________________________________________________________\n",
            "conv3_block1_3_conv (Conv2D)    (None, 28, 28, 512)  66048       conv3_block1_2_relu[0][0]        \n",
            "__________________________________________________________________________________________________\n",
            "conv3_block1_0_bn (BatchNormali (None, 28, 28, 512)  2048        conv3_block1_0_conv[0][0]        \n",
            "__________________________________________________________________________________________________\n",
            "conv3_block1_3_bn (BatchNormali (None, 28, 28, 512)  2048        conv3_block1_3_conv[0][0]        \n",
            "__________________________________________________________________________________________________\n",
            "conv3_block1_add (Add)          (None, 28, 28, 512)  0           conv3_block1_0_bn[0][0]          \n",
            "                                                                 conv3_block1_3_bn[0][0]          \n",
            "__________________________________________________________________________________________________\n",
            "conv3_block1_out (Activation)   (None, 28, 28, 512)  0           conv3_block1_add[0][0]           \n",
            "__________________________________________________________________________________________________\n",
            "conv3_block2_1_conv (Conv2D)    (None, 28, 28, 128)  65664       conv3_block1_out[0][0]           \n",
            "__________________________________________________________________________________________________\n",
            "conv3_block2_1_bn (BatchNormali (None, 28, 28, 128)  512         conv3_block2_1_conv[0][0]        \n",
            "__________________________________________________________________________________________________\n",
            "conv3_block2_1_relu (Activation (None, 28, 28, 128)  0           conv3_block2_1_bn[0][0]          \n",
            "__________________________________________________________________________________________________\n",
            "conv3_block2_2_conv (Conv2D)    (None, 28, 28, 128)  147584      conv3_block2_1_relu[0][0]        \n",
            "__________________________________________________________________________________________________\n",
            "conv3_block2_2_bn (BatchNormali (None, 28, 28, 128)  512         conv3_block2_2_conv[0][0]        \n",
            "__________________________________________________________________________________________________\n",
            "conv3_block2_2_relu (Activation (None, 28, 28, 128)  0           conv3_block2_2_bn[0][0]          \n",
            "__________________________________________________________________________________________________\n",
            "conv3_block2_3_conv (Conv2D)    (None, 28, 28, 512)  66048       conv3_block2_2_relu[0][0]        \n",
            "__________________________________________________________________________________________________\n",
            "conv3_block2_3_bn (BatchNormali (None, 28, 28, 512)  2048        conv3_block2_3_conv[0][0]        \n",
            "__________________________________________________________________________________________________\n",
            "conv3_block2_add (Add)          (None, 28, 28, 512)  0           conv3_block1_out[0][0]           \n",
            "                                                                 conv3_block2_3_bn[0][0]          \n",
            "__________________________________________________________________________________________________\n",
            "conv3_block2_out (Activation)   (None, 28, 28, 512)  0           conv3_block2_add[0][0]           \n",
            "__________________________________________________________________________________________________\n",
            "conv3_block3_1_conv (Conv2D)    (None, 28, 28, 128)  65664       conv3_block2_out[0][0]           \n",
            "__________________________________________________________________________________________________\n",
            "conv3_block3_1_bn (BatchNormali (None, 28, 28, 128)  512         conv3_block3_1_conv[0][0]        \n",
            "__________________________________________________________________________________________________\n",
            "conv3_block3_1_relu (Activation (None, 28, 28, 128)  0           conv3_block3_1_bn[0][0]          \n",
            "__________________________________________________________________________________________________\n",
            "conv3_block3_2_conv (Conv2D)    (None, 28, 28, 128)  147584      conv3_block3_1_relu[0][0]        \n",
            "__________________________________________________________________________________________________\n",
            "conv3_block3_2_bn (BatchNormali (None, 28, 28, 128)  512         conv3_block3_2_conv[0][0]        \n",
            "__________________________________________________________________________________________________\n",
            "conv3_block3_2_relu (Activation (None, 28, 28, 128)  0           conv3_block3_2_bn[0][0]          \n",
            "__________________________________________________________________________________________________\n",
            "conv3_block3_3_conv (Conv2D)    (None, 28, 28, 512)  66048       conv3_block3_2_relu[0][0]        \n",
            "__________________________________________________________________________________________________\n",
            "conv3_block3_3_bn (BatchNormali (None, 28, 28, 512)  2048        conv3_block3_3_conv[0][0]        \n",
            "__________________________________________________________________________________________________\n",
            "conv3_block3_add (Add)          (None, 28, 28, 512)  0           conv3_block2_out[0][0]           \n",
            "                                                                 conv3_block3_3_bn[0][0]          \n",
            "__________________________________________________________________________________________________\n",
            "conv3_block3_out (Activation)   (None, 28, 28, 512)  0           conv3_block3_add[0][0]           \n",
            "__________________________________________________________________________________________________\n",
            "conv3_block4_1_conv (Conv2D)    (None, 28, 28, 128)  65664       conv3_block3_out[0][0]           \n",
            "__________________________________________________________________________________________________\n",
            "conv3_block4_1_bn (BatchNormali (None, 28, 28, 128)  512         conv3_block4_1_conv[0][0]        \n",
            "__________________________________________________________________________________________________\n",
            "conv3_block4_1_relu (Activation (None, 28, 28, 128)  0           conv3_block4_1_bn[0][0]          \n",
            "__________________________________________________________________________________________________\n",
            "conv3_block4_2_conv (Conv2D)    (None, 28, 28, 128)  147584      conv3_block4_1_relu[0][0]        \n",
            "__________________________________________________________________________________________________\n",
            "conv3_block4_2_bn (BatchNormali (None, 28, 28, 128)  512         conv3_block4_2_conv[0][0]        \n",
            "__________________________________________________________________________________________________\n",
            "conv3_block4_2_relu (Activation (None, 28, 28, 128)  0           conv3_block4_2_bn[0][0]          \n",
            "__________________________________________________________________________________________________\n",
            "conv3_block4_3_conv (Conv2D)    (None, 28, 28, 512)  66048       conv3_block4_2_relu[0][0]        \n",
            "__________________________________________________________________________________________________\n",
            "conv3_block4_3_bn (BatchNormali (None, 28, 28, 512)  2048        conv3_block4_3_conv[0][0]        \n",
            "__________________________________________________________________________________________________\n",
            "conv3_block4_add (Add)          (None, 28, 28, 512)  0           conv3_block3_out[0][0]           \n",
            "                                                                 conv3_block4_3_bn[0][0]          \n",
            "__________________________________________________________________________________________________\n",
            "conv3_block4_out (Activation)   (None, 28, 28, 512)  0           conv3_block4_add[0][0]           \n",
            "__________________________________________________________________________________________________\n",
            "conv4_block1_1_conv (Conv2D)    (None, 14, 14, 256)  131328      conv3_block4_out[0][0]           \n",
            "__________________________________________________________________________________________________\n",
            "conv4_block1_1_bn (BatchNormali (None, 14, 14, 256)  1024        conv4_block1_1_conv[0][0]        \n",
            "__________________________________________________________________________________________________\n",
            "conv4_block1_1_relu (Activation (None, 14, 14, 256)  0           conv4_block1_1_bn[0][0]          \n",
            "__________________________________________________________________________________________________\n",
            "conv4_block1_2_conv (Conv2D)    (None, 14, 14, 256)  590080      conv4_block1_1_relu[0][0]        \n",
            "__________________________________________________________________________________________________\n",
            "conv4_block1_2_bn (BatchNormali (None, 14, 14, 256)  1024        conv4_block1_2_conv[0][0]        \n",
            "__________________________________________________________________________________________________\n",
            "conv4_block1_2_relu (Activation (None, 14, 14, 256)  0           conv4_block1_2_bn[0][0]          \n",
            "__________________________________________________________________________________________________\n",
            "conv4_block1_0_conv (Conv2D)    (None, 14, 14, 1024) 525312      conv3_block4_out[0][0]           \n",
            "__________________________________________________________________________________________________\n",
            "conv4_block1_3_conv (Conv2D)    (None, 14, 14, 1024) 263168      conv4_block1_2_relu[0][0]        \n",
            "__________________________________________________________________________________________________\n",
            "conv4_block1_0_bn (BatchNormali (None, 14, 14, 1024) 4096        conv4_block1_0_conv[0][0]        \n",
            "__________________________________________________________________________________________________\n",
            "conv4_block1_3_bn (BatchNormali (None, 14, 14, 1024) 4096        conv4_block1_3_conv[0][0]        \n",
            "__________________________________________________________________________________________________\n",
            "conv4_block1_add (Add)          (None, 14, 14, 1024) 0           conv4_block1_0_bn[0][0]          \n",
            "                                                                 conv4_block1_3_bn[0][0]          \n",
            "__________________________________________________________________________________________________\n",
            "conv4_block1_out (Activation)   (None, 14, 14, 1024) 0           conv4_block1_add[0][0]           \n",
            "__________________________________________________________________________________________________\n",
            "conv4_block2_1_conv (Conv2D)    (None, 14, 14, 256)  262400      conv4_block1_out[0][0]           \n",
            "__________________________________________________________________________________________________\n",
            "conv4_block2_1_bn (BatchNormali (None, 14, 14, 256)  1024        conv4_block2_1_conv[0][0]        \n",
            "__________________________________________________________________________________________________\n",
            "conv4_block2_1_relu (Activation (None, 14, 14, 256)  0           conv4_block2_1_bn[0][0]          \n",
            "__________________________________________________________________________________________________\n",
            "conv4_block2_2_conv (Conv2D)    (None, 14, 14, 256)  590080      conv4_block2_1_relu[0][0]        \n",
            "__________________________________________________________________________________________________\n",
            "conv4_block2_2_bn (BatchNormali (None, 14, 14, 256)  1024        conv4_block2_2_conv[0][0]        \n",
            "__________________________________________________________________________________________________\n",
            "conv4_block2_2_relu (Activation (None, 14, 14, 256)  0           conv4_block2_2_bn[0][0]          \n",
            "__________________________________________________________________________________________________\n",
            "conv4_block2_3_conv (Conv2D)    (None, 14, 14, 1024) 263168      conv4_block2_2_relu[0][0]        \n",
            "__________________________________________________________________________________________________\n",
            "conv4_block2_3_bn (BatchNormali (None, 14, 14, 1024) 4096        conv4_block2_3_conv[0][0]        \n",
            "__________________________________________________________________________________________________\n",
            "conv4_block2_add (Add)          (None, 14, 14, 1024) 0           conv4_block1_out[0][0]           \n",
            "                                                                 conv4_block2_3_bn[0][0]          \n",
            "__________________________________________________________________________________________________\n",
            "conv4_block2_out (Activation)   (None, 14, 14, 1024) 0           conv4_block2_add[0][0]           \n",
            "__________________________________________________________________________________________________\n",
            "conv4_block3_1_conv (Conv2D)    (None, 14, 14, 256)  262400      conv4_block2_out[0][0]           \n",
            "__________________________________________________________________________________________________\n",
            "conv4_block3_1_bn (BatchNormali (None, 14, 14, 256)  1024        conv4_block3_1_conv[0][0]        \n",
            "__________________________________________________________________________________________________\n",
            "conv4_block3_1_relu (Activation (None, 14, 14, 256)  0           conv4_block3_1_bn[0][0]          \n",
            "__________________________________________________________________________________________________\n",
            "conv4_block3_2_conv (Conv2D)    (None, 14, 14, 256)  590080      conv4_block3_1_relu[0][0]        \n",
            "__________________________________________________________________________________________________\n",
            "conv4_block3_2_bn (BatchNormali (None, 14, 14, 256)  1024        conv4_block3_2_conv[0][0]        \n",
            "__________________________________________________________________________________________________\n",
            "conv4_block3_2_relu (Activation (None, 14, 14, 256)  0           conv4_block3_2_bn[0][0]          \n",
            "__________________________________________________________________________________________________\n",
            "conv4_block3_3_conv (Conv2D)    (None, 14, 14, 1024) 263168      conv4_block3_2_relu[0][0]        \n",
            "__________________________________________________________________________________________________\n",
            "conv4_block3_3_bn (BatchNormali (None, 14, 14, 1024) 4096        conv4_block3_3_conv[0][0]        \n",
            "__________________________________________________________________________________________________\n",
            "conv4_block3_add (Add)          (None, 14, 14, 1024) 0           conv4_block2_out[0][0]           \n",
            "                                                                 conv4_block3_3_bn[0][0]          \n",
            "__________________________________________________________________________________________________\n",
            "conv4_block3_out (Activation)   (None, 14, 14, 1024) 0           conv4_block3_add[0][0]           \n",
            "__________________________________________________________________________________________________\n",
            "conv4_block4_1_conv (Conv2D)    (None, 14, 14, 256)  262400      conv4_block3_out[0][0]           \n",
            "__________________________________________________________________________________________________\n",
            "conv4_block4_1_bn (BatchNormali (None, 14, 14, 256)  1024        conv4_block4_1_conv[0][0]        \n",
            "__________________________________________________________________________________________________\n",
            "conv4_block4_1_relu (Activation (None, 14, 14, 256)  0           conv4_block4_1_bn[0][0]          \n",
            "__________________________________________________________________________________________________\n",
            "conv4_block4_2_conv (Conv2D)    (None, 14, 14, 256)  590080      conv4_block4_1_relu[0][0]        \n",
            "__________________________________________________________________________________________________\n",
            "conv4_block4_2_bn (BatchNormali (None, 14, 14, 256)  1024        conv4_block4_2_conv[0][0]        \n",
            "__________________________________________________________________________________________________\n",
            "conv4_block4_2_relu (Activation (None, 14, 14, 256)  0           conv4_block4_2_bn[0][0]          \n",
            "__________________________________________________________________________________________________\n",
            "conv4_block4_3_conv (Conv2D)    (None, 14, 14, 1024) 263168      conv4_block4_2_relu[0][0]        \n",
            "__________________________________________________________________________________________________\n",
            "conv4_block4_3_bn (BatchNormali (None, 14, 14, 1024) 4096        conv4_block4_3_conv[0][0]        \n",
            "__________________________________________________________________________________________________\n",
            "conv4_block4_add (Add)          (None, 14, 14, 1024) 0           conv4_block3_out[0][0]           \n",
            "                                                                 conv4_block4_3_bn[0][0]          \n",
            "__________________________________________________________________________________________________\n",
            "conv4_block4_out (Activation)   (None, 14, 14, 1024) 0           conv4_block4_add[0][0]           \n",
            "__________________________________________________________________________________________________\n",
            "conv4_block5_1_conv (Conv2D)    (None, 14, 14, 256)  262400      conv4_block4_out[0][0]           \n",
            "__________________________________________________________________________________________________\n",
            "conv4_block5_1_bn (BatchNormali (None, 14, 14, 256)  1024        conv4_block5_1_conv[0][0]        \n",
            "__________________________________________________________________________________________________\n",
            "conv4_block5_1_relu (Activation (None, 14, 14, 256)  0           conv4_block5_1_bn[0][0]          \n",
            "__________________________________________________________________________________________________\n",
            "conv4_block5_2_conv (Conv2D)    (None, 14, 14, 256)  590080      conv4_block5_1_relu[0][0]        \n",
            "__________________________________________________________________________________________________\n",
            "conv4_block5_2_bn (BatchNormali (None, 14, 14, 256)  1024        conv4_block5_2_conv[0][0]        \n",
            "__________________________________________________________________________________________________\n",
            "conv4_block5_2_relu (Activation (None, 14, 14, 256)  0           conv4_block5_2_bn[0][0]          \n",
            "__________________________________________________________________________________________________\n",
            "conv4_block5_3_conv (Conv2D)    (None, 14, 14, 1024) 263168      conv4_block5_2_relu[0][0]        \n",
            "__________________________________________________________________________________________________\n",
            "conv4_block5_3_bn (BatchNormali (None, 14, 14, 1024) 4096        conv4_block5_3_conv[0][0]        \n",
            "__________________________________________________________________________________________________\n",
            "conv4_block5_add (Add)          (None, 14, 14, 1024) 0           conv4_block4_out[0][0]           \n",
            "                                                                 conv4_block5_3_bn[0][0]          \n",
            "__________________________________________________________________________________________________\n",
            "conv4_block5_out (Activation)   (None, 14, 14, 1024) 0           conv4_block5_add[0][0]           \n",
            "__________________________________________________________________________________________________\n",
            "conv4_block6_1_conv (Conv2D)    (None, 14, 14, 256)  262400      conv4_block5_out[0][0]           \n",
            "__________________________________________________________________________________________________\n",
            "conv4_block6_1_bn (BatchNormali (None, 14, 14, 256)  1024        conv4_block6_1_conv[0][0]        \n",
            "__________________________________________________________________________________________________\n",
            "conv4_block6_1_relu (Activation (None, 14, 14, 256)  0           conv4_block6_1_bn[0][0]          \n",
            "__________________________________________________________________________________________________\n",
            "conv4_block6_2_conv (Conv2D)    (None, 14, 14, 256)  590080      conv4_block6_1_relu[0][0]        \n",
            "__________________________________________________________________________________________________\n",
            "conv4_block6_2_bn (BatchNormali (None, 14, 14, 256)  1024        conv4_block6_2_conv[0][0]        \n",
            "__________________________________________________________________________________________________\n",
            "conv4_block6_2_relu (Activation (None, 14, 14, 256)  0           conv4_block6_2_bn[0][0]          \n",
            "__________________________________________________________________________________________________\n",
            "conv4_block6_3_conv (Conv2D)    (None, 14, 14, 1024) 263168      conv4_block6_2_relu[0][0]        \n",
            "__________________________________________________________________________________________________\n",
            "conv4_block6_3_bn (BatchNormali (None, 14, 14, 1024) 4096        conv4_block6_3_conv[0][0]        \n",
            "__________________________________________________________________________________________________\n",
            "conv4_block6_add (Add)          (None, 14, 14, 1024) 0           conv4_block5_out[0][0]           \n",
            "                                                                 conv4_block6_3_bn[0][0]          \n",
            "__________________________________________________________________________________________________\n",
            "conv4_block6_out (Activation)   (None, 14, 14, 1024) 0           conv4_block6_add[0][0]           \n",
            "__________________________________________________________________________________________________\n",
            "conv5_block1_1_conv (Conv2D)    (None, 7, 7, 512)    524800      conv4_block6_out[0][0]           \n",
            "__________________________________________________________________________________________________\n",
            "conv5_block1_1_bn (BatchNormali (None, 7, 7, 512)    2048        conv5_block1_1_conv[0][0]        \n",
            "__________________________________________________________________________________________________\n",
            "conv5_block1_1_relu (Activation (None, 7, 7, 512)    0           conv5_block1_1_bn[0][0]          \n",
            "__________________________________________________________________________________________________\n",
            "conv5_block1_2_conv (Conv2D)    (None, 7, 7, 512)    2359808     conv5_block1_1_relu[0][0]        \n",
            "__________________________________________________________________________________________________\n",
            "conv5_block1_2_bn (BatchNormali (None, 7, 7, 512)    2048        conv5_block1_2_conv[0][0]        \n",
            "__________________________________________________________________________________________________\n",
            "conv5_block1_2_relu (Activation (None, 7, 7, 512)    0           conv5_block1_2_bn[0][0]          \n",
            "__________________________________________________________________________________________________\n",
            "conv5_block1_0_conv (Conv2D)    (None, 7, 7, 2048)   2099200     conv4_block6_out[0][0]           \n",
            "__________________________________________________________________________________________________\n",
            "conv5_block1_3_conv (Conv2D)    (None, 7, 7, 2048)   1050624     conv5_block1_2_relu[0][0]        \n",
            "__________________________________________________________________________________________________\n",
            "conv5_block1_0_bn (BatchNormali (None, 7, 7, 2048)   8192        conv5_block1_0_conv[0][0]        \n",
            "__________________________________________________________________________________________________\n",
            "conv5_block1_3_bn (BatchNormali (None, 7, 7, 2048)   8192        conv5_block1_3_conv[0][0]        \n",
            "__________________________________________________________________________________________________\n",
            "conv5_block1_add (Add)          (None, 7, 7, 2048)   0           conv5_block1_0_bn[0][0]          \n",
            "                                                                 conv5_block1_3_bn[0][0]          \n",
            "__________________________________________________________________________________________________\n",
            "conv5_block1_out (Activation)   (None, 7, 7, 2048)   0           conv5_block1_add[0][0]           \n",
            "__________________________________________________________________________________________________\n",
            "conv5_block2_1_conv (Conv2D)    (None, 7, 7, 512)    1049088     conv5_block1_out[0][0]           \n",
            "__________________________________________________________________________________________________\n",
            "conv5_block2_1_bn (BatchNormali (None, 7, 7, 512)    2048        conv5_block2_1_conv[0][0]        \n",
            "__________________________________________________________________________________________________\n",
            "conv5_block2_1_relu (Activation (None, 7, 7, 512)    0           conv5_block2_1_bn[0][0]          \n",
            "__________________________________________________________________________________________________\n",
            "conv5_block2_2_conv (Conv2D)    (None, 7, 7, 512)    2359808     conv5_block2_1_relu[0][0]        \n",
            "__________________________________________________________________________________________________\n",
            "conv5_block2_2_bn (BatchNormali (None, 7, 7, 512)    2048        conv5_block2_2_conv[0][0]        \n",
            "__________________________________________________________________________________________________\n",
            "conv5_block2_2_relu (Activation (None, 7, 7, 512)    0           conv5_block2_2_bn[0][0]          \n",
            "__________________________________________________________________________________________________\n",
            "conv5_block2_3_conv (Conv2D)    (None, 7, 7, 2048)   1050624     conv5_block2_2_relu[0][0]        \n",
            "__________________________________________________________________________________________________\n",
            "conv5_block2_3_bn (BatchNormali (None, 7, 7, 2048)   8192        conv5_block2_3_conv[0][0]        \n",
            "__________________________________________________________________________________________________\n",
            "conv5_block2_add (Add)          (None, 7, 7, 2048)   0           conv5_block1_out[0][0]           \n",
            "                                                                 conv5_block2_3_bn[0][0]          \n",
            "__________________________________________________________________________________________________\n",
            "conv5_block2_out (Activation)   (None, 7, 7, 2048)   0           conv5_block2_add[0][0]           \n",
            "__________________________________________________________________________________________________\n",
            "conv5_block3_1_conv (Conv2D)    (None, 7, 7, 512)    1049088     conv5_block2_out[0][0]           \n",
            "__________________________________________________________________________________________________\n",
            "conv5_block3_1_bn (BatchNormali (None, 7, 7, 512)    2048        conv5_block3_1_conv[0][0]        \n",
            "__________________________________________________________________________________________________\n",
            "conv5_block3_1_relu (Activation (None, 7, 7, 512)    0           conv5_block3_1_bn[0][0]          \n",
            "__________________________________________________________________________________________________\n",
            "conv5_block3_2_conv (Conv2D)    (None, 7, 7, 512)    2359808     conv5_block3_1_relu[0][0]        \n",
            "__________________________________________________________________________________________________\n",
            "conv5_block3_2_bn (BatchNormali (None, 7, 7, 512)    2048        conv5_block3_2_conv[0][0]        \n",
            "__________________________________________________________________________________________________\n",
            "conv5_block3_2_relu (Activation (None, 7, 7, 512)    0           conv5_block3_2_bn[0][0]          \n",
            "__________________________________________________________________________________________________\n",
            "conv5_block3_3_conv (Conv2D)    (None, 7, 7, 2048)   1050624     conv5_block3_2_relu[0][0]        \n",
            "__________________________________________________________________________________________________\n",
            "conv5_block3_3_bn (BatchNormali (None, 7, 7, 2048)   8192        conv5_block3_3_conv[0][0]        \n",
            "__________________________________________________________________________________________________\n",
            "conv5_block3_add (Add)          (None, 7, 7, 2048)   0           conv5_block2_out[0][0]           \n",
            "                                                                 conv5_block3_3_bn[0][0]          \n",
            "__________________________________________________________________________________________________\n",
            "conv5_block3_out (Activation)   (None, 7, 7, 2048)   0           conv5_block3_add[0][0]           \n",
            "__________________________________________________________________________________________________\n",
            "global_average_pooling2d (Globa (None, 2048)         0           conv5_block3_out[0][0]           \n",
            "__________________________________________________________________________________________________\n",
            "dense (Dense)                   (None, 7)            14343       global_average_pooling2d[0][0]   \n",
            "==================================================================================================\n",
            "Total params: 23,602,055\n",
            "Trainable params: 23,548,935\n",
            "Non-trainable params: 53,120\n",
            "__________________________________________________________________________________________________\n"
          ],
          "name": "stdout"
        }
      ]
    },
    {
      "cell_type": "code",
      "metadata": {
        "id": "WR0fUpy18vAZ"
      },
      "source": [
        "opt1=tf.keras.optimizers.Adam(learning_rate=0.01,epsilon=0.1)\r\n",
        "model.compile(optimizer=opt1,\r\n",
        "             loss='categorical_crossentropy',\r\n",
        "             metrics=['accuracy'])"
      ],
      "execution_count": 23,
      "outputs": []
    },
    {
      "cell_type": "code",
      "metadata": {
        "id": "LAf5ha295reS"
      },
      "source": [
        "class_weights = {   \r\n",
        "                    0: 1.0,  # akiec\r\n",
        "                    1: 1.0,  # bcc\r\n",
        "                    2: 1.0,  # bkl\r\n",
        "                    3: 1.0,  # df\r\n",
        "                    4: 5.0,  # mel\r\n",
        "                    5: 1.0,  # nv\r\n",
        "                    6: 1.0,  # vasc\r\n",
        "                }\r\n",
        "\r\n",
        "\r\n",
        "checkpoint=  ModelCheckpoint(filepath = 'ResNet50.hdf5',monitor='val_accuracy',save_best_only=True,save_weights_only=True)\r\n",
        "\r\n",
        "\r\n"
      ],
      "execution_count": 24,
      "outputs": []
    },
    {
      "cell_type": "code",
      "metadata": {
        "id": "NUzTmiZ-8hL3",
        "colab": {
          "base_uri": "https://localhost:8080/"
        },
        "outputId": "46eeb3e9-4356-45d4-910e-1532766e318a"
      },
      "source": [
        "Earlystop = EarlyStopping(monitor='val_loss', mode='min',patience=40, min_delta=0.001)\r\n",
        "history = model.fit(train_batches,\r\n",
        "                    steps_per_epoch=train_steps,\r\n",
        "                    epochs=300,\r\n",
        "                    verbose=2,\r\n",
        "                    validation_data=test_batches,validation_steps=len(test_df),callbacks=[checkpoint,Earlystop],class_weight=class_weights)"
      ],
      "execution_count": 25,
      "outputs": [
        {
          "output_type": "stream",
          "text": [
            "Epoch 1/300\n",
            "919/919 - 85s - loss: 1.9275 - accuracy: 0.4376 - val_loss: 0.8518 - val_accuracy: 0.8080\n",
            "Epoch 2/300\n",
            "919/919 - 76s - loss: 1.5601 - accuracy: 0.5326 - val_loss: 0.7295 - val_accuracy: 0.7657\n",
            "Epoch 3/300\n",
            "919/919 - 76s - loss: 1.3781 - accuracy: 0.5890 - val_loss: 0.4901 - val_accuracy: 0.8442\n",
            "Epoch 4/300\n",
            "919/919 - 76s - loss: 1.2963 - accuracy: 0.6118 - val_loss: 0.4910 - val_accuracy: 0.8382\n",
            "Epoch 5/300\n",
            "919/919 - 76s - loss: 1.1731 - accuracy: 0.6502 - val_loss: 0.6289 - val_accuracy: 0.8031\n",
            "Epoch 6/300\n",
            "919/919 - 76s - loss: 1.0880 - accuracy: 0.6729 - val_loss: 0.4986 - val_accuracy: 0.8309\n",
            "Epoch 7/300\n",
            "919/919 - 76s - loss: 1.0301 - accuracy: 0.6900 - val_loss: 0.7125 - val_accuracy: 0.7367\n",
            "Epoch 8/300\n",
            "919/919 - 76s - loss: 0.9887 - accuracy: 0.7017 - val_loss: 0.6859 - val_accuracy: 0.8140\n",
            "Epoch 9/300\n",
            "919/919 - 76s - loss: 0.9602 - accuracy: 0.7201 - val_loss: 0.7569 - val_accuracy: 0.7307\n",
            "Epoch 10/300\n",
            "919/919 - 76s - loss: 0.9136 - accuracy: 0.7293 - val_loss: 0.3537 - val_accuracy: 0.8804\n",
            "Epoch 11/300\n",
            "919/919 - 76s - loss: 0.8196 - accuracy: 0.7612 - val_loss: 0.5892 - val_accuracy: 0.7633\n",
            "Epoch 12/300\n",
            "919/919 - 76s - loss: 0.8002 - accuracy: 0.7667 - val_loss: 1.0892 - val_accuracy: 0.6824\n",
            "Epoch 13/300\n",
            "919/919 - 76s - loss: 0.7286 - accuracy: 0.7792 - val_loss: 0.4790 - val_accuracy: 0.8345\n",
            "Epoch 14/300\n",
            "919/919 - 76s - loss: 0.7169 - accuracy: 0.7918 - val_loss: 0.5911 - val_accuracy: 0.7995\n",
            "Epoch 15/300\n",
            "919/919 - 76s - loss: 0.6724 - accuracy: 0.7979 - val_loss: 0.3841 - val_accuracy: 0.8671\n",
            "Epoch 16/300\n",
            "919/919 - 76s - loss: 0.6547 - accuracy: 0.8085 - val_loss: 0.5132 - val_accuracy: 0.8309\n",
            "Epoch 17/300\n",
            "919/919 - 76s - loss: 0.5916 - accuracy: 0.8243 - val_loss: 0.4008 - val_accuracy: 0.8732\n",
            "Epoch 18/300\n",
            "919/919 - 76s - loss: 0.5977 - accuracy: 0.8292 - val_loss: 0.5063 - val_accuracy: 0.8780\n",
            "Epoch 19/300\n",
            "919/919 - 76s - loss: 0.5670 - accuracy: 0.8305 - val_loss: 0.4025 - val_accuracy: 0.8756\n",
            "Epoch 20/300\n",
            "919/919 - 76s - loss: 0.5404 - accuracy: 0.8421 - val_loss: 0.3691 - val_accuracy: 0.8816\n",
            "Epoch 21/300\n",
            "919/919 - 76s - loss: 0.5324 - accuracy: 0.8466 - val_loss: 0.5269 - val_accuracy: 0.8200\n",
            "Epoch 22/300\n",
            "919/919 - 76s - loss: 0.4979 - accuracy: 0.8597 - val_loss: 0.3161 - val_accuracy: 0.8901\n",
            "Epoch 23/300\n",
            "919/919 - 76s - loss: 0.4687 - accuracy: 0.8663 - val_loss: 0.5691 - val_accuracy: 0.8454\n",
            "Epoch 24/300\n",
            "919/919 - 76s - loss: 0.4413 - accuracy: 0.8725 - val_loss: 0.4284 - val_accuracy: 0.8756\n",
            "Epoch 25/300\n",
            "919/919 - 76s - loss: 0.4369 - accuracy: 0.8742 - val_loss: 0.4001 - val_accuracy: 0.8853\n",
            "Epoch 26/300\n",
            "919/919 - 76s - loss: 0.4520 - accuracy: 0.8677 - val_loss: 0.3544 - val_accuracy: 0.8913\n",
            "Epoch 27/300\n",
            "919/919 - 76s - loss: 0.3922 - accuracy: 0.8893 - val_loss: 0.4094 - val_accuracy: 0.8575\n",
            "Epoch 28/300\n",
            "919/919 - 76s - loss: 0.3846 - accuracy: 0.8873 - val_loss: 0.3696 - val_accuracy: 0.8865\n",
            "Epoch 29/300\n",
            "919/919 - 76s - loss: 0.3489 - accuracy: 0.8982 - val_loss: 0.4112 - val_accuracy: 0.8768\n",
            "Epoch 30/300\n",
            "919/919 - 76s - loss: 0.3755 - accuracy: 0.8979 - val_loss: 0.4873 - val_accuracy: 0.8599\n",
            "Epoch 31/300\n",
            "919/919 - 76s - loss: 0.3459 - accuracy: 0.9024 - val_loss: 0.3593 - val_accuracy: 0.8865\n",
            "Epoch 32/300\n",
            "919/919 - 76s - loss: 0.2950 - accuracy: 0.9184 - val_loss: 0.3984 - val_accuracy: 0.8780\n",
            "Epoch 33/300\n",
            "919/919 - 76s - loss: 0.3141 - accuracy: 0.9098 - val_loss: 0.5002 - val_accuracy: 0.8514\n",
            "Epoch 34/300\n",
            "919/919 - 76s - loss: 0.2868 - accuracy: 0.9195 - val_loss: 0.4435 - val_accuracy: 0.8671\n",
            "Epoch 35/300\n",
            "919/919 - 76s - loss: 0.2847 - accuracy: 0.9209 - val_loss: 0.6051 - val_accuracy: 0.8116\n",
            "Epoch 36/300\n",
            "919/919 - 76s - loss: 0.2919 - accuracy: 0.9215 - val_loss: 0.4902 - val_accuracy: 0.8804\n",
            "Epoch 37/300\n",
            "919/919 - 76s - loss: 0.2632 - accuracy: 0.9232 - val_loss: 0.3950 - val_accuracy: 0.8853\n",
            "Epoch 38/300\n",
            "919/919 - 76s - loss: 0.2383 - accuracy: 0.9325 - val_loss: 0.3550 - val_accuracy: 0.9010\n",
            "Epoch 39/300\n",
            "919/919 - 76s - loss: 0.2070 - accuracy: 0.9427 - val_loss: 0.3857 - val_accuracy: 0.8853\n",
            "Epoch 40/300\n",
            "919/919 - 76s - loss: 0.2382 - accuracy: 0.9313 - val_loss: 0.5664 - val_accuracy: 0.8587\n",
            "Epoch 41/300\n",
            "919/919 - 76s - loss: 0.2393 - accuracy: 0.9311 - val_loss: 0.3923 - val_accuracy: 0.8937\n",
            "Epoch 42/300\n",
            "919/919 - 76s - loss: 0.2427 - accuracy: 0.9312 - val_loss: 0.4936 - val_accuracy: 0.8720\n",
            "Epoch 43/300\n",
            "919/919 - 76s - loss: 0.2032 - accuracy: 0.9437 - val_loss: 0.4862 - val_accuracy: 0.8792\n",
            "Epoch 44/300\n",
            "919/919 - 76s - loss: 0.1957 - accuracy: 0.9464 - val_loss: 0.4224 - val_accuracy: 0.8865\n",
            "Epoch 45/300\n",
            "919/919 - 76s - loss: 0.1693 - accuracy: 0.9502 - val_loss: 0.3690 - val_accuracy: 0.9010\n",
            "Epoch 46/300\n",
            "919/919 - 75s - loss: 0.1984 - accuracy: 0.9470 - val_loss: 0.4261 - val_accuracy: 0.8732\n",
            "Epoch 47/300\n",
            "919/919 - 76s - loss: 0.1789 - accuracy: 0.9506 - val_loss: 0.4152 - val_accuracy: 0.8877\n",
            "Epoch 48/300\n",
            "919/919 - 75s - loss: 0.1850 - accuracy: 0.9448 - val_loss: 0.4702 - val_accuracy: 0.8684\n",
            "Epoch 49/300\n",
            "919/919 - 76s - loss: 0.2091 - accuracy: 0.9425 - val_loss: 0.4805 - val_accuracy: 0.8816\n",
            "Epoch 50/300\n",
            "919/919 - 75s - loss: 0.1465 - accuracy: 0.9576 - val_loss: 0.3554 - val_accuracy: 0.8925\n",
            "Epoch 51/300\n",
            "919/919 - 75s - loss: 0.1233 - accuracy: 0.9644 - val_loss: 0.3589 - val_accuracy: 0.9046\n",
            "Epoch 52/300\n",
            "919/919 - 76s - loss: 0.1752 - accuracy: 0.9533 - val_loss: 0.5407 - val_accuracy: 0.8647\n",
            "Epoch 53/300\n",
            "919/919 - 75s - loss: 0.1588 - accuracy: 0.9547 - val_loss: 0.4752 - val_accuracy: 0.8877\n",
            "Epoch 54/300\n",
            "919/919 - 75s - loss: 0.1630 - accuracy: 0.9557 - val_loss: 0.4127 - val_accuracy: 0.8768\n",
            "Epoch 55/300\n",
            "919/919 - 75s - loss: 0.1291 - accuracy: 0.9629 - val_loss: 0.4526 - val_accuracy: 0.8756\n",
            "Epoch 56/300\n",
            "919/919 - 75s - loss: 0.1346 - accuracy: 0.9646 - val_loss: 0.3672 - val_accuracy: 0.8986\n",
            "Epoch 57/300\n",
            "919/919 - 75s - loss: 0.1012 - accuracy: 0.9728 - val_loss: 0.4221 - val_accuracy: 0.8889\n",
            "Epoch 58/300\n",
            "919/919 - 75s - loss: 0.1223 - accuracy: 0.9665 - val_loss: 0.4261 - val_accuracy: 0.8949\n",
            "Epoch 59/300\n",
            "919/919 - 75s - loss: 0.1192 - accuracy: 0.9680 - val_loss: 0.3998 - val_accuracy: 0.8973\n",
            "Epoch 60/300\n",
            "919/919 - 75s - loss: 0.1133 - accuracy: 0.9670 - val_loss: 0.3703 - val_accuracy: 0.8925\n",
            "Epoch 61/300\n",
            "919/919 - 76s - loss: 0.1180 - accuracy: 0.9671 - val_loss: 0.3700 - val_accuracy: 0.8877\n",
            "Epoch 62/300\n",
            "919/919 - 75s - loss: 0.0983 - accuracy: 0.9730 - val_loss: 0.3756 - val_accuracy: 0.8986\n"
          ],
          "name": "stdout"
        }
      ]
    },
    {
      "cell_type": "code",
      "metadata": {
        "id": "zm_AewFBXTj8"
      },
      "source": [
        "from tensorflow.keras import models\r\n",
        "model.load_weights(\"ResNet50.hdf5\")"
      ],
      "execution_count": 26,
      "outputs": []
    },
    {
      "cell_type": "code",
      "metadata": {
        "id": "kO8IxF0er88T",
        "colab": {
          "base_uri": "https://localhost:8080/"
        },
        "outputId": "06213eb5-1cb3-4711-eb54-15bef8ae1f31"
      },
      "source": [
        "predictions = model.predict(test_batches, steps=len(test_df), verbose=1)"
      ],
      "execution_count": 27,
      "outputs": [
        {
          "output_type": "stream",
          "text": [
            "828/828 [==============================] - 9s 10ms/step\n"
          ],
          "name": "stdout"
        }
      ]
    },
    {
      "cell_type": "code",
      "metadata": {
        "id": "KYxCDDjusR-S",
        "colab": {
          "base_uri": "https://localhost:8080/"
        },
        "outputId": "64c8e9d3-d9d3-4880-d26a-91414471fb64"
      },
      "source": [
        "\r\n",
        "y_pred = np.argmax(predictions, axis=1)\r\n",
        "targetnames = ['akiec', 'bcc', 'bkl', 'df', 'mel', 'nv', 'vasc']\r\n",
        "# Get the labels of the test images.\r\n",
        "y_true = test_batches.classes\r\n",
        "y_prob=predictions\r\n",
        "from tensorflow.keras.utils import to_categorical\r\n",
        "y_test = to_categorical(y_true)\r\n",
        "\r\n",
        "# Create classification report with matrix labels and target names.\r\n",
        "report = classification_report(y_true, y_pred, target_names=targetnames)\r\n",
        "\r\n",
        "print(\"\\nClassification Report:\")\r\n",
        "print(report)"
      ],
      "execution_count": 28,
      "outputs": [
        {
          "output_type": "stream",
          "text": [
            "\n",
            "Classification Report:\n",
            "              precision    recall  f1-score   support\n",
            "\n",
            "       akiec       0.74      0.74      0.74        23\n",
            "         bcc       0.91      0.77      0.83        26\n",
            "         bkl       0.67      0.50      0.57        66\n",
            "          df       0.80      0.67      0.73         6\n",
            "         mel       0.52      0.50      0.51        34\n",
            "          nv       0.95      0.98      0.96       663\n",
            "        vasc       0.90      0.90      0.90        10\n",
            "\n",
            "    accuracy                           0.90       828\n",
            "   macro avg       0.78      0.72      0.75       828\n",
            "weighted avg       0.90      0.90      0.90       828\n",
            "\n"
          ],
          "name": "stdout"
        }
      ]
    },
    {
      "cell_type": "code",
      "metadata": {
        "id": "yy59Zs1jqylz",
        "colab": {
          "base_uri": "https://localhost:8080/"
        },
        "outputId": "48925225-2fa5-4ed6-9439-6ae2adef1b6a"
      },
      "source": [
        "print(\"Precision: \"+ str(precision_score(y_true, y_pred, average='weighted')))\r\n",
        "print(\"Recall: \"+ str(recall_score(y_true, y_pred, average='weighted')))\r\n",
        "print(\"Accuracy: \" + str(accuracy_score(y_true, y_pred)))\r\n",
        "print(\"weighted Roc score: \" + str(roc_auc_score(y_test,y_prob,multi_class='ovr',average='weighted')))"
      ],
      "execution_count": 29,
      "outputs": [
        {
          "output_type": "stream",
          "text": [
            "Precision: 0.8981171733390011\n",
            "Recall: 0.9045893719806763\n",
            "Accuracy: 0.9045893719806763\n",
            "weighted Roc score: 0.9727752250647581\n"
          ],
          "name": "stdout"
        }
      ]
    },
    {
      "cell_type": "code",
      "metadata": {
        "id": "vFRWOB82sDKi",
        "colab": {
          "base_uri": "https://localhost:8080/"
        },
        "outputId": "2813e781-55a8-4203-8ef0-7b94ca628e30"
      },
      "source": [
        "\r\n",
        "print(\"Precision: \"+ str(precision_score(y_true, y_pred, average='macro')))\r\n",
        "print(\"Recall: \"+ str(recall_score(y_true, y_pred, average='macro')))\r\n",
        "print(\"Accuracy: \" + str(accuracy_score(y_true, y_pred)))\r\n",
        "print(\"Macro Roc score: \" + str(roc_auc_score(y_test,y_prob,multi_class='ovr',average='macro')))"
      ],
      "execution_count": 30,
      "outputs": [
        {
          "output_type": "stream",
          "text": [
            "Precision: 0.7832723409602609\n",
            "Recall: 0.7219873902738353\n",
            "Accuracy: 0.9045893719806763\n",
            "Macro Roc score: 0.9758549231296252\n"
          ],
          "name": "stdout"
        }
      ]
    },
    {
      "cell_type": "code",
      "metadata": {
        "id": "nDNAPv9OsRVg",
        "colab": {
          "base_uri": "https://localhost:8080/"
        },
        "outputId": "1f1d443e-020a-4af0-b8ad-01f2fcd7f20a"
      },
      "source": [
        "print(\"Precision: \"+ str(precision_score(y_true, y_pred, average='micro')))\r\n",
        "print(\"Recall: \"+ str(recall_score(y_true, y_pred, average='micro')))\r\n",
        "print(\"Accuracy: \" + str(accuracy_score(y_true, y_pred)))\r\n",
        "tpr={}\r\n",
        "fpr={}\r\n",
        "roc_auc={}\r\n",
        "fpr[\"micro\"], tpr[\"micro\"], _ = roc_curve(y_test.ravel(), y_prob.ravel())\r\n",
        "roc_auc[\"micro\"] = auc(fpr[\"micro\"], tpr[\"micro\"])\r\n",
        "print(\"Micro Roc score: \" + str(roc_auc[\"micro\"]))"
      ],
      "execution_count": 31,
      "outputs": [
        {
          "output_type": "stream",
          "text": [
            "Precision: 0.9045893719806763\n",
            "Recall: 0.9045893719806763\n",
            "Accuracy: 0.9045893719806763\n",
            "Micro Roc score: 0.9931541333131073\n"
          ],
          "name": "stdout"
        }
      ]
    },
    {
      "cell_type": "code",
      "metadata": {
        "id": "U03sRDM2sudx",
        "colab": {
          "base_uri": "https://localhost:8080/"
        },
        "outputId": "235ea641-5f7c-421e-cfa5-e27b99ad0eb8"
      },
      "source": [
        "fpr = {}\r\n",
        "tpr = {}\r\n",
        "roc_auc = {}\r\n",
        "for i in range(7):\r\n",
        "    r = roc_auc_score(y_test[:, i], y_prob[:, i])\r\n",
        "    print(\"The ROC AUC score of \"+targetnames[i]+\" is: \"+str(r))"
      ],
      "execution_count": 32,
      "outputs": [
        {
          "output_type": "stream",
          "text": [
            "The ROC AUC score of akiec is: 0.9808263570078315\n",
            "The ROC AUC score of bcc is: 0.9974582773834644\n",
            "The ROC AUC score of bkl is: 0.94887854927225\n",
            "The ROC AUC score of df is: 0.97323600973236\n",
            "The ROC AUC score of mel is: 0.9610683064157653\n",
            "The ROC AUC score of nv is: 0.9741624388683212\n",
            "The ROC AUC score of vasc is: 0.9953545232273838\n"
          ],
          "name": "stdout"
        }
      ]
    },
    {
      "cell_type": "code",
      "metadata": {
        "id": "A5nG-b11wkep"
      },
      "source": [
        "# Compute ROC curve and ROC area for each class\r\n",
        "fpr = {}\r\n",
        "tpr = {}\r\n",
        "roc_auc = dict()\r\n",
        "for i in range(7):\r\n",
        "    fpr[i], tpr[i], _ = roc_curve(y_test[:, i], y_prob[:, i], drop_intermediate=False)\r\n",
        "    roc_auc[i] = auc(fpr[i], tpr[i])"
      ],
      "execution_count": 33,
      "outputs": []
    },
    {
      "cell_type": "code",
      "metadata": {
        "id": "9wz2--WDwHQ4",
        "colab": {
          "base_uri": "https://localhost:8080/",
          "height": 295
        },
        "outputId": "4f5ef06b-8812-4a4f-ac8f-53041987d159"
      },
      "source": [
        "\r\n",
        "plt.plot(fpr[0], tpr[0],'v-',label='akiec: ROC curve of (area = %0.2f)' % roc_auc[0])\r\n",
        "plt.plot(fpr[1], tpr[1],'c',label='bcc: ROC curve of (area = %0.2f)' % roc_auc[1])\r\n",
        "plt.plot(fpr[2], tpr[2],'b',label='bkl: ROC curve of (area = %0.2f)' % roc_auc[2])\r\n",
        "plt.plot(fpr[3], tpr[3],'g',label='df: ROC curve of (area = %0.2f)' % roc_auc[3])\r\n",
        "plt.plot(fpr[4], tpr[4],'y',label='mel: ROC curve of (area = %0.2f)' % roc_auc[4])\r\n",
        "plt.plot(fpr[5], tpr[5],'o-',label='nv: ROC curve of (area = %0.2f)' % roc_auc[5])\r\n",
        "plt.plot(fpr[6], tpr[6],'r',label='vasc: ROC curve of (area = %0.2f)' % roc_auc[6])\r\n",
        "\r\n",
        "plt.plot([0, 1], [0, 1], 'k--')\r\n",
        "plt.xlim([-0.1, 1.1])\r\n",
        "plt.ylim([-0.1, 1.1])\r\n",
        "plt.xlabel('False Positive Rate')\r\n",
        "plt.ylabel('True Positive Rate')\r\n",
        "plt.title('Receiver operating characteristic of %s'%targetnames[i])\r\n",
        "plt.legend(loc=\"lower right\")\r\n",
        "plt.show()"
      ],
      "execution_count": 34,
      "outputs": [
        {
          "output_type": "display_data",
          "data": {
            "image/png": "[encoded data removed]",
            "text/plain": [
              "<Figure size 432x288 with 1 Axes>"
            ]
          },
          "metadata": {
            "tags": [],
            "needs_background": "light"
          }
        }
      ]
    }
  ]
}